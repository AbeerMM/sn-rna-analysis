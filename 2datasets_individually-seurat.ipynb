{
 "cells": [
  {
   "cell_type": "markdown",
   "metadata": {
    "run_control": {
     "marked": false
    }
   },
   "source": [
    "*First compiled on May 5, 2017. Updated Mar 28, 2018.*   \n",
    "See the same notebook for Scanpy [0.4.4](https://github.com/theislab/scanpy_usage/blob/17c34b61f76de79bfdea7512f1782bf3f5ecb160/170505_seurat/seurat.ipynb)."
   ]
  },
  {
   "cell_type": "markdown",
   "metadata": {
    "toc": "true"
   },
   "source": [
    "# Table of Contents\n",
    " <p><div class=\"lev1 toc-item\"><a href=\"#Clustering-3k-PBMCs-following-a-Seurat-Tutorial\" data-toc-modified-id=\"Clustering-3k-PBMCs-following-a-Seurat-Tutorial-1\"><span class=\"toc-item-num\">1&nbsp;&nbsp;</span>Clustering 3k PBMCs following a Seurat Tutorial</a></div><div class=\"lev2 toc-item\"><a href=\"#Preparing-the-Data\" data-toc-modified-id=\"Preparing-the-Data-11\"><span class=\"toc-item-num\">1.1&nbsp;&nbsp;</span>Preparing the Data</a></div><div class=\"lev2 toc-item\"><a href=\"#Preprocessing\" data-toc-modified-id=\"Preprocessing-12\"><span class=\"toc-item-num\">1.2&nbsp;&nbsp;</span>Preprocessing</a></div><div class=\"lev3 toc-item\"><a href=\"#Basic-Filtering----Extreme-Outliers-Removal\" data-toc-modified-id=\"Basic-Filtering----Extreme-Outliers-Removal-121\"><span class=\"toc-item-num\">1.2.1&nbsp;&nbsp;</span>Basic Filtering <i>-- Extreme Outliers Removal</i></a></div><div class=\"lev3 toc-item\"><a href=\"#Other-Sources-of-Variation\" data-toc-modified-id=\"Other-Sources-of-Variation-122\"><span class=\"toc-item-num\">1.2.2&nbsp;&nbsp;</span>Other Sources of Variation</a></div><div class=\"lev4 toc-item\"><a href=\"#Mitochondrial-Genes\" data-toc-modified-id=\"Mitochondrial-Genes-1221\"><span class=\"toc-item-num\">1.2.2.1&nbsp;&nbsp;</span>Mitochondrial Genes</a></div><div class=\"lev4 toc-item\"><a href=\"#Filtering-Mitochondrial-Genes\" data-toc-modified-id=\"Filtering-Mitochondrial-Genes-1222\"><span class=\"toc-item-num\">1.2.2.2&nbsp;&nbsp;</span>Filtering Mitochondrial Genes</a></div><div class=\"lev3 toc-item\"><a href=\"#Normalization\" data-toc-modified-id=\"Normalization-123\"><span class=\"toc-item-num\">1.2.3&nbsp;&nbsp;</span>Normalization</a></div><div class=\"lev3 toc-item\"><a href=\"#Identifying-Highly-Variable-Genes\" data-toc-modified-id=\"Identifying-Highly-Variable-Genes-124\"><span class=\"toc-item-num\">1.2.4&nbsp;&nbsp;</span>Identifying Highly-Variable Genes</a></div><div class=\"lev3 toc-item\"><a href=\"#More-Processing\" data-toc-modified-id=\"More-Processing-125\"><span class=\"toc-item-num\">1.2.5&nbsp;&nbsp;</span>More Processing</a></div><div class=\"lev4 toc-item\"><a href=\"#Filtering-the-Data---using-the-list-of-highly-expressed-genes\" data-toc-modified-id=\"Filtering-the-Data---using-the-list-of-highly-expressed-genes-1251\"><span class=\"toc-item-num\">1.2.5.1&nbsp;&nbsp;</span>Filtering the Data --using the list of highly expressed genes</a></div><div class=\"lev4 toc-item\"><a href=\"#Logarithmizing-the-Data\" data-toc-modified-id=\"Logarithmizing-the-Data-1252\"><span class=\"toc-item-num\">1.2.5.2&nbsp;&nbsp;</span>Logarithmizing the Data</a></div><div class=\"lev4 toc-item\"><a href=\"#Regressing-out-Unwanted-Source-of-Variation\" data-toc-modified-id=\"Regressing-out-Unwanted-Source-of-Variation-1253\"><span class=\"toc-item-num\">1.2.5.3&nbsp;&nbsp;</span>Regressing out Unwanted Source of Variation</a></div><div class=\"lev4 toc-item\"><a href=\"#Scaling-the-Data\" data-toc-modified-id=\"Scaling-the-Data-1254\"><span class=\"toc-item-num\">1.2.5.4&nbsp;&nbsp;</span>Scaling the Data</a></div><div class=\"lev2 toc-item\"><a href=\"#PCA\" data-toc-modified-id=\"PCA-13\"><span class=\"toc-item-num\">1.3&nbsp;&nbsp;</span>PCA</a></div><div class=\"lev2 toc-item\"><a href=\"#tSNE\" data-toc-modified-id=\"tSNE-14\"><span class=\"toc-item-num\">1.4&nbsp;&nbsp;</span>tSNE</a></div><div class=\"lev2 toc-item\"><a href=\"#Computing-the-Neighborhood-Graph\" data-toc-modified-id=\"Computing-the-Neighborhood-Graph-15\"><span class=\"toc-item-num\">1.5&nbsp;&nbsp;</span>Computing the Neighborhood Graph</a></div><div class=\"lev3 toc-item\"><a href=\"#Visualizing-Neighborhood-Graph-Using-UMAP\" data-toc-modified-id=\"Visualizing-Neighborhood-Graph-Using-UMAP-151\"><span class=\"toc-item-num\">1.5.1&nbsp;&nbsp;</span>Visualizing Neighborhood Graph Using UMAP</a></div><div class=\"lev3 toc-item\"><a href=\"#Visualizing-Neighborhood-Graph-Using-T-SNE\" data-toc-modified-id=\"Visualizing-Neighborhood-Graph-Using-T-SNE-152\"><span class=\"toc-item-num\">1.5.2&nbsp;&nbsp;</span>Visualizing Neighborhood Graph Using T-SNE</a></div><div class=\"lev2 toc-item\"><a href=\"#Clustering-the-Neighboring-Graph---from-tsne-&amp;-umap\" data-toc-modified-id=\"Clustering-the-Neighboring-Graph---from-tsne-&amp;-umap-16\"><span class=\"toc-item-num\">1.6&nbsp;&nbsp;</span>Clustering the Neighboring Graph --from tsne &amp; umap</a></div><div class=\"lev3 toc-item\"><a href=\"#Visualizing-Clusters-Using-T-SNE\" data-toc-modified-id=\"Visualizing-Clusters-Using-T-SNE-161\"><span class=\"toc-item-num\">1.6.1&nbsp;&nbsp;</span>Visualizing Clusters Using T-SNE</a></div><div class=\"lev3 toc-item\"><a href=\"#Visualizing-Clusters-Using-UMAP\" data-toc-modified-id=\"Visualizing-Clusters-Using-UMAP-162\"><span class=\"toc-item-num\">1.6.2&nbsp;&nbsp;</span>Visualizing Clusters Using UMAP</a></div><div class=\"lev2 toc-item\"><a href=\"#Finding-marker-genes\" data-toc-modified-id=\"Finding-marker-genes-17\"><span class=\"toc-item-num\">1.7&nbsp;&nbsp;</span>Finding marker genes</a></div><div class=\"lev1 toc-item\"><a href=\"#Integrating-the-two-datasets-at-different-analysis-stages\" data-toc-modified-id=\"Integrating-the-two-datasets-at-different-analysis-stages-2\"><span class=\"toc-item-num\">2&nbsp;&nbsp;</span>Integrating the two datasets at different analysis stages</a></div><div class=\"lev2 toc-item\"><a href=\"#Preprocessing\" data-toc-modified-id=\"Preprocessing-21\"><span class=\"toc-item-num\">2.1&nbsp;&nbsp;</span>Preprocessing</a></div>"
   ]
  },
  {
   "cell_type": "markdown",
   "metadata": {
    "run_control": {
     "marked": false
    }
   },
   "source": [
    "# Clustering 3k PBMCs following a Seurat Tutorial"
   ]
  },
  {
   "cell_type": "markdown",
   "metadata": {
    "heading_collapsed": true
   },
   "source": [
    "## Preparing the Data"
   ]
  },
  {
   "cell_type": "markdown",
   "metadata": {
    "hidden": true,
    "run_control": {
     "marked": false
    }
   },
   "source": [
    "Scanpy allows to reproduce most of Seurat's ([Satija *et al.*, 2015](https://doi.org/10.1038/nbt.3192)) standard clustering tutorial as described on http://satijalab.org/seurat/pbmc3k_tutorial.html (July 26, 2017). We gratefully acknowledge  the Seurat authors for publishing the tutorial!\n",
    "\n",
    "The data consists in *3k PBMCs from a Healthy Donor* and is freely available from 10x Genomics ([here](http://cf.10xgenomics.com/samples/cell-exp/1.1.0/pbmc3k/pbmc3k_filtered_gene_bc_matrices.tar.gz) from this [webpage](https://support.10xgenomics.com/single-cell-gene-expression/datasets/1.1.0/pbmc3k))."
   ]
  },
  {
   "cell_type": "code",
   "execution_count": null,
   "metadata": {
    "ExecuteTime": {
     "end_time": "2018-09-01T07:21:25.216697Z",
     "start_time": "2018-09-01T07:21:25.212519Z"
    },
    "cell_style": "center",
    "format": "row",
    "hidden": true,
    "hide_input": true,
    "run_control": {
     "marked": false
    }
   },
   "outputs": [],
   "source": [
    "from __future__ import print_function, division\n",
    "import numpy as np\n",
    "import matplotlib as mpl\n",
    "import matplotlib.pyplot as plt\n",
    "%matplotlib inline"
   ]
  },
  {
   "cell_type": "code",
   "execution_count": null,
   "metadata": {
    "ExecuteTime": {
     "end_time": "2018-09-01T07:13:29.654022Z",
     "start_time": "2018-09-01T07:13:29.647194Z"
    },
    "hidden": true,
    "run_control": {
     "marked": false
    },
    "scrolled": true
   },
   "outputs": [],
   "source": [
    "import numpy as np\n",
    "import pandas as pd\n",
    "import scanpy.api as sc\n",
    "sc.settings.verbosity = 3  # verbosity: errors (0), warnings (1), info (2), hints (3)\n",
    "sc.settings.set_figure_params(dpi=80, color_map='viridis')\n",
    "sc.logging.print_versions()"
   ]
  },
  {
   "cell_type": "code",
   "execution_count": null,
   "metadata": {
    "cell_style": "split",
    "hidden": true,
    "run_control": {
     "marked": false
    }
   },
   "outputs": [],
   "source": [
    "results_file = './write/pmbc3k.h5ad'"
   ]
  },
  {
   "cell_type": "code",
   "execution_count": null,
   "metadata": {
    "ExecuteTime": {
     "end_time": "2018-09-01T07:13:44.849264Z",
     "start_time": "2018-09-01T07:13:44.846509Z"
    },
    "cell_style": "split",
    "hidden": true,
    "run_control": {
     "marked": false
    }
   },
   "outputs": [],
   "source": [
    "results_file2 = './write/pmbc3k2.h5ad'"
   ]
  },
  {
   "cell_type": "code",
   "execution_count": null,
   "metadata": {
    "ExecuteTime": {
     "end_time": "2018-08-31T10:22:24.440502Z",
     "start_time": "2018-08-31T10:22:24.106802Z"
    },
    "cell_style": "split",
    "hidden": true,
    "run_control": {
     "marked": false
    }
   },
   "outputs": [],
   "source": [
    "path = './data/pbmc3k_filtered_gene_bc_matrices/hg19/'\n",
    "adata = sc.read(path + 'matrix.mtx', cache=True).T  # transpose the data\n",
    "print (adata)\n",
    "adata.var_names = pd.read_csv(path + 'genes.tsv', header=None, sep='\\t')[1]\n",
    "adata.obs_names = pd.read_csv(path + 'barcodes.tsv', header=None)[0]\n",
    "adata.var['var_ensemble'] = list(pd.read_csv(path + 'genes.tsv', header=None, sep='\\t')[0])"
   ]
  },
  {
   "cell_type": "code",
   "execution_count": null,
   "metadata": {
    "ExecuteTime": {
     "end_time": "2018-09-01T07:13:45.143677Z",
     "start_time": "2018-09-01T07:13:44.859054Z"
    },
    "cell_style": "split",
    "hidden": true,
    "run_control": {
     "marked": false
    }
   },
   "outputs": [],
   "source": [
    "path2 = './data/filtered_matrices_mex/hg19/'\n",
    "adata2 = sc.read(path2 + 'matrix.mtx', cache=True).T  # transpose the data\n",
    "print (adata2)\n",
    "adata2.var_names = pd.read_csv(path2 + 'genes.tsv', header=None, sep='\\t')[1]\n",
    "adata2.obs_names = pd.read_csv(path2 + 'barcodes.tsv', header=None)[0]\n",
    "adata2.var['var_ensemble']  = list(pd.read_csv(path2 + 'genes.tsv', header=None, sep='\\t')[0])"
   ]
  },
  {
   "cell_type": "code",
   "execution_count": null,
   "metadata": {
    "cell_style": "split",
    "hidden": true,
    "run_control": {
     "marked": false
    }
   },
   "outputs": [],
   "source": [
    "print(\"# all genes: \", len(list(adata.var_names)))\n",
    "print (\"# distinct genes: \", len(list(set(adata.var_names))))\n",
    "print (\"--------------\")\n",
    "print(\"# all genes(ensemble): \", len(list(adata.var['var_ensemble'])))\n",
    "print (\"# distinct genes(ensemble): \", len(list(set(adata.var['var_ensemble']))))"
   ]
  },
  {
   "cell_type": "code",
   "execution_count": null,
   "metadata": {
    "cell_style": "split",
    "hidden": true
   },
   "outputs": [],
   "source": [
    "print (\"# all genes: \", len(list(adata2.var_names)))\n",
    "print (\"# distinct genes: \", len(list(set(adata2.var_names))))\n",
    "print (\"--------------\")\n",
    "print (\"# all genes(ensemble): \", len(list(adata2.var['var_ensemble'])))\n",
    "print (\"# distinct genes(ensemble): \", len(list(set(adata2.var['var_ensemble']))))"
   ]
  },
  {
   "cell_type": "code",
   "execution_count": null,
   "metadata": {
    "hidden": true
   },
   "outputs": [],
   "source": [
    "print(\"# of Common gennes b/w the two datasets: \", len(set(adata.var_names) & set(adata2.var_names)))\n",
    "#Just to test number of common genes in both datasets if we remove the \".*\" that make them distinct.\n",
    "mylist = adata.var_names\n",
    "mylist2 = adata2.var_names\n",
    "#-----------------------------------\n",
    "mylist = [s.partition('.')[0] for s in mylist]\n",
    "mylist2 = [s.partition('.')[0] for s in mylist2]\n",
    "#-----------------------------------\n",
    "print(\"# of Common gene names b/w the two datasets if we remove (.*): \", len(set(mylist) & set(mylist2)))\n",
    "print(\"# of Common gennes b/w the two datasets(ensemble): \", len(set(adata.var['var_ensemble']) & set(adata2.var['var_ensemble'])))"
   ]
  },
  {
   "cell_type": "markdown",
   "metadata": {
    "hidden": true
   },
   "source": [
    "<font color=\"blue\">The following scripts make the gene names unique (var_names) by indexing the duplicates.</font>\n",
    "<br/><font color=red>Note: the ensemble IDs are unique in both datasets.</font>"
   ]
  },
  {
   "cell_type": "code",
   "execution_count": null,
   "metadata": {
    "ExecuteTime": {
     "end_time": "2018-08-31T10:22:24.461705Z",
     "start_time": "2018-08-31T10:22:24.443668Z"
    },
    "cell_style": "split",
    "hidden": true,
    "run_control": {
     "marked": false
    }
   },
   "outputs": [],
   "source": [
    "adata.var_names_make_unique()\n",
    "print (adata)"
   ]
  },
  {
   "cell_type": "code",
   "execution_count": null,
   "metadata": {
    "ExecuteTime": {
     "end_time": "2018-09-01T07:13:45.158264Z",
     "start_time": "2018-09-01T07:13:45.146112Z"
    },
    "cell_style": "split",
    "hidden": true,
    "run_control": {
     "marked": false
    }
   },
   "outputs": [],
   "source": [
    "adata2.var_names_make_unique()\n",
    "print (adata2)"
   ]
  },
  {
   "cell_type": "code",
   "execution_count": null,
   "metadata": {
    "cell_style": "split",
    "format": "row",
    "hidden": true,
    "run_control": {
     "marked": false
    }
   },
   "outputs": [],
   "source": [
    "print (adata.var_names)"
   ]
  },
  {
   "cell_type": "code",
   "execution_count": null,
   "metadata": {
    "cell_style": "split",
    "hidden": true,
    "run_control": {
     "marked": false
    }
   },
   "outputs": [],
   "source": [
    "print (adata2.var_names)"
   ]
  },
  {
   "cell_type": "markdown",
   "metadata": {
    "heading_collapsed": true,
    "run_control": {
     "marked": false
    }
   },
   "source": [
    "## Preprocessing"
   ]
  },
  {
   "cell_type": "markdown",
   "metadata": {
    "heading_collapsed": true,
    "hidden": true,
    "run_control": {
     "marked": false
    }
   },
   "source": [
    "### Basic Filtering <I>-- Extreme Outliers Removal</I>"
   ]
  },
  {
   "cell_type": "markdown",
   "metadata": {
    "hidden": true
   },
   "source": [
    "<font color=\"blue\">In the following steps, we filter out the cells with less than 200 genes, and we filter out genes that are expressed in less than 3 cells. We use the same cutoffs for both datasets. Although, the cutoffs are more more stringent for one of the datasets than the other.</font>"
   ]
  },
  {
   "cell_type": "code",
   "execution_count": null,
   "metadata": {
    "ExecuteTime": {
     "end_time": "2018-08-31T10:22:24.665581Z",
     "start_time": "2018-08-31T10:22:24.464976Z"
    },
    "cell_style": "split",
    "code_folding": [],
    "hidden": true,
    "run_control": {
     "marked": false
    }
   },
   "outputs": [],
   "source": [
    "#Filter cell outliers based on counts and numbers of genes expressed.\n",
    "#For instance, only keep cells with at least min_counts counts or min_genes genes expressed. This is to filter measurement outliers, i.e., “unreliable” observations.\n",
    "#Only provide one of the optional parameters min_counts, min_genes, max_counts, max_genes per call.\n",
    "sc.pp.filter_cells(adata, min_genes=200)\n",
    "\n",
    "#Filter genes based on number of cells or counts.\n",
    "#Keep genes that have at least min_counts counts or are expressed in at least min_cells cells or have at most max_counts counts or are expressed in at most max_cells cells.\n",
    "#Only provide one of the optional parameters min_counts, min_cells, max_counts, max_cells per call.\n",
    "sc.pp.filter_genes(adata, min_cells=3)"
   ]
  },
  {
   "cell_type": "code",
   "execution_count": null,
   "metadata": {
    "ExecuteTime": {
     "end_time": "2018-09-01T07:13:45.328398Z",
     "start_time": "2018-09-01T07:13:45.160700Z"
    },
    "cell_style": "split",
    "code_folding": [],
    "hidden": true,
    "run_control": {
     "marked": false
    }
   },
   "outputs": [],
   "source": [
    "#Filter cell outliers based on counts and numbers of genes expressed.\n",
    "#For instance, only keep cells with at least min_counts counts or min_genes genes expressed. This is to filter measurement outliers, i.e., “unreliable” observations.\n",
    "#Only provide one of the optional parameters min_counts, min_genes, max_counts, max_genes per call.\n",
    "sc.pp.filter_cells(adata2, min_genes=200)\n",
    "\n",
    "#Filter genes based on number of cells or counts.\n",
    "#Keep genes that have at least min_counts counts or are expressed in at least min_cells cells or have at most max_counts counts or are expressed in at most max_cells cells.\n",
    "#Only provide one of the optional parameters min_counts, min_cells, max_counts, max_cells per call.\n",
    "sc.pp.filter_genes(adata2, min_cells=3)"
   ]
  },
  {
   "cell_type": "code",
   "execution_count": null,
   "metadata": {
    "cell_style": "split",
    "hidden": true,
    "run_control": {
     "marked": false
    }
   },
   "outputs": [],
   "source": [
    "print(\"The data shape after filtering:\\n\", adata.shape)"
   ]
  },
  {
   "cell_type": "code",
   "execution_count": null,
   "metadata": {
    "cell_style": "split",
    "format": "row",
    "hidden": true,
    "run_control": {
     "marked": false
    }
   },
   "outputs": [],
   "source": [
    "print (\"The data shape after filtering:\\n\",adata2.shape)"
   ]
  },
  {
   "cell_type": "markdown",
   "metadata": {
    "hidden": true,
    "run_control": {
     "marked": false
    }
   },
   "source": [
    "<font color=red><B>Observation: </B></font></br>\n",
    "<font color=blue>The number of genes that have cell counts less than 3 is larger in the second dataset. The number of vars after filtering the genes is 13067 whereas in the first dataset, the number of genes after the filtering is 13714.\n",
    "\n",
    "==> the gene filtering is more stringent for the 2nd dataset.</font>"
   ]
  },
  {
   "cell_type": "markdown",
   "metadata": {
    "hidden": true
   },
   "source": [
    "---------------------------"
   ]
  },
  {
   "cell_type": "markdown",
   "metadata": {
    "hidden": true
   },
   "source": [
    "<font color=\"blue\">Here, we just inspect the sparse dataframe for the datasets after normalization.</font> (--Skip if not needed)"
   ]
  },
  {
   "cell_type": "code",
   "execution_count": null,
   "metadata": {
    "ExecuteTime": {
     "end_time": "2018-08-31T10:22:24.723502Z",
     "start_time": "2018-08-31T10:22:24.668682Z"
    },
    "cell_style": "split",
    "hidden": true,
    "run_control": {
     "marked": false
    }
   },
   "outputs": [],
   "source": [
    "#df.reset_index(drop=True, inplace=True)\n",
    "#df = pd.DataFrame()\n",
    "df = pd.SparseDataFrame(adata.X, index=adata.obs_names, columns=adata.var_names, copy=True)\n",
    "print(df.shape)\n",
    "df = pd.concat([df,pd.DataFrame(df.sum(axis=1, skipna=True),columns=['Total'])],axis=1)\n",
    "df_min = pd.DataFrame(df.min(axis=0, skipna=True),columns=['Min'])\n",
    "df_max = pd.DataFrame(df.max(axis=0, skipna=True),columns=['Max'])\n",
    "df_mean = pd.DataFrame(df.mean(axis=0, skipna=True),columns=['Mean'])\n",
    "df_std = pd.DataFrame(df.std(axis=0, skipna=True),columns=['Std'])\n",
    "df_var = pd.DataFrame(df.var(axis=0, skipna=True),columns=['Var'])\n",
    "\n",
    "df = pd.concat([df, df_min.T])\n",
    "df = pd.concat([df, df_max.T])  \n",
    "df = pd.concat([df, df_mean.T]) \n",
    "df = pd.concat([df, df_std.T]) \n",
    "df = pd.concat([df, df_var.T]) \n",
    "head(df) "
   ]
  },
  {
   "cell_type": "code",
   "execution_count": null,
   "metadata": {
    "ExecuteTime": {
     "end_time": "2018-09-01T07:13:45.387781Z",
     "start_time": "2018-09-01T07:13:45.331179Z"
    },
    "cell_style": "split",
    "hidden": true,
    "run_control": {
     "marked": false
    }
   },
   "outputs": [],
   "source": [
    "#df.reset_index(drop=True, inplace=True)\n",
    "#df = pd.DataFrame()\n",
    "df2 = pd.SparseDataFrame(adata2.X, index=adata2.obs_names, columns=adata2.var_names, copy=True)\n",
    "print (df2.shape)\n",
    "df2 = pd.concat([df2,pd.DataFrame(df2.sum(axis=1, skipna=True),columns=['Total'])],axis=1)\n",
    "df2_min = pd.DataFrame(df2.min(axis=0, skipna=True),columns=['Min'])\n",
    "df2_max = pd.DataFrame(df2.max(axis=0, skipna=True),columns=['Max'])\n",
    "df2_mean = pd.DataFrame(df2.mean(axis=0, skipna=True),columns=['Mean'])\n",
    "df2_std = pd.DataFrame(df2.std(axis=0, skipna=True),columns=['Std'])\n",
    "df2_var = pd.DataFrame(df2.var(axis=0, skipna=True),columns=['Var'])\n",
    "\n",
    "df2 = pd.concat([df2, df2_min.T])\n",
    "df2 = pd.concat([df2, df2_max.T])  \n",
    "df2 = pd.concat([df2, df2_mean.T])\n",
    "df2 = pd.concat([df2, df2_std.T]) \n",
    "df2 = pd.concat([df2, df2_var.T]) \n",
    "df2.head()"
   ]
  },
  {
   "cell_type": "markdown",
   "metadata": {
    "format": "row",
    "heading_collapsed": true,
    "hidden": true
   },
   "source": [
    "### Other Sources of Variation"
   ]
  },
  {
   "cell_type": "markdown",
   "metadata": {
    "heading_collapsed": true,
    "hidden": true
   },
   "source": [
    "#### Mitochondrial Genes"
   ]
  },
  {
   "cell_type": "markdown",
   "metadata": {
    "hidden": true,
    "run_control": {
     "marked": false
    }
   },
   "source": [
    "Plot some information about mitochondrial genes, important for quality control. Note that you can also retrieve mitochondrial genes using `sc.queries.mitochondrial_genes_biomart('www.ensembl.org', 'mmusculus')`."
   ]
  },
  {
   "cell_type": "code",
   "execution_count": null,
   "metadata": {
    "ExecuteTime": {
     "end_time": "2018-08-31T10:22:24.762930Z",
     "start_time": "2018-08-31T10:22:24.727574Z"
    },
    "cell_style": "split",
    "hidden": true,
    "run_control": {
     "marked": false
    }
   },
   "outputs": [],
   "source": [
    "mito_genes = [name for name in adata.var_names if name.startswith('MT-')]\n",
    "print (mito_genes)\n",
    "# for each cell compute fraction of counts in mito genes vs. all genes\n",
    "# the `.A1` is only necessary, as X is sparse - it transform to a dense array after summing\n",
    "adata.obs['percent_mito'] = np.sum(adata[:, mito_genes].X, axis=1).A1 / np.sum(adata.X, axis=1).A1\n",
    "# add the total counts per cell as observations-annotation to adata\n",
    "adata.obs['n_counts'] = adata.X.sum(axis=1).A1\n",
    "print(\"==================\")\n",
    "print(\"Min. % mito: \", adata.obs['percent_mito'].min())\n",
    "print(\"Max. % mito: \", adata.obs['percent_mito'].max())\n",
    "print(\"Mean. % mito: \", adata.obs['percent_mito'].mean())\n",
    "print(\"==================\")\n",
    "print(\"Min. count of genes: \", adata.obs['n_genes'].min())\n",
    "print(\"Max. count of genes: \", adata.obs['n_genes'].max())\n",
    "print(\"Mean. count of genes: \", adata.obs['n_genes'].mean())"
   ]
  },
  {
   "cell_type": "code",
   "execution_count": null,
   "metadata": {
    "ExecuteTime": {
     "end_time": "2018-09-01T07:13:45.421875Z",
     "start_time": "2018-09-01T07:13:45.390819Z"
    },
    "cell_style": "split",
    "hidden": true,
    "run_control": {
     "marked": false
    }
   },
   "outputs": [],
   "source": [
    "mito_genes2 = [name for name in adata2.var_names if name.startswith('MT-')]\n",
    "print (mito_genes2)\n",
    "# for each cell compute fraction of counts in mito genes vs. all genes\n",
    "# the `.A1` is only necessary, as X is sparse - it transform to a dense array after summing\n",
    "adata2.obs['percent_mito'] = np.sum(adata2[:, mito_genes2].X, axis=1).A1 / np.sum(adata2.X, axis=1).A1\n",
    "# add the total counts per cell as observations-annotation to adata\n",
    "adata2.obs['n_counts'] = adata2.X.sum(axis=1).A1\n",
    "print(\"==================\")\n",
    "print(\"Min. % mito: \", adata2.obs['percent_mito'].min())\n",
    "print(\"Max. % mito: \", adata2.obs['percent_mito'].max())\n",
    "print(\"Mean. % mito: \", adata2.obs['percent_mito'].mean())\n",
    "print(\"==================\")\n",
    "print(\"Min. count of genes: \", adata2.obs['n_genes'].min())\n",
    "print(\"Max. count of genes: \", adata2.obs['n_genes'].max())\n",
    "print(\"Mean. count of genes: \", adata2.obs['n_genes'].mean())"
   ]
  },
  {
   "cell_type": "markdown",
   "metadata": {
    "hidden": true
   },
   "source": [
    "---------------------------"
   ]
  },
  {
   "cell_type": "markdown",
   "metadata": {
    "hidden": true,
    "run_control": {
     "marked": false
    }
   },
   "source": [
    "A violin plot of the computed quality measures."
   ]
  },
  {
   "cell_type": "code",
   "execution_count": null,
   "metadata": {
    "ExecuteTime": {
     "end_time": "2018-08-31T10:22:25.737962Z",
     "start_time": "2018-08-31T10:22:24.766540Z"
    },
    "cell_style": "split",
    "hidden": true,
    "run_control": {
     "marked": false
    }
   },
   "outputs": [],
   "source": [
    "sc.pl.violin(adata, ['n_genes', 'n_counts', 'percent_mito'],\n",
    "             jitter=0.4, multi_panel=True)"
   ]
  },
  {
   "cell_type": "code",
   "execution_count": null,
   "metadata": {
    "ExecuteTime": {
     "end_time": "2018-09-01T07:13:46.352328Z",
     "start_time": "2018-09-01T07:13:45.425495Z"
    },
    "cell_style": "split",
    "hidden": true,
    "run_control": {
     "marked": false
    }
   },
   "outputs": [],
   "source": [
    "sc.pl.violin(adata2, ['n_genes', 'n_counts', 'percent_mito'],\n",
    "             jitter=0.4, multi_panel=True)"
   ]
  },
  {
   "cell_type": "markdown",
   "metadata": {
    "hidden": true,
    "run_control": {
     "marked": false
    }
   },
   "source": [
    "<font color=Red><B>General Observation:</B></font><br/>\n",
    "<font color=blue>Based on the plots above, it can be seen that the second dataset has smaller counts average for genes in general and for mito genes in particular compared to the first dataset. Also, the second dataset has higher variability in its counts than the first one.</font>"
   ]
  },
  {
   "cell_type": "markdown",
   "metadata": {
    "hidden": true
   },
   "source": [
    "---------------------------"
   ]
  },
  {
   "cell_type": "markdown",
   "metadata": {
    "hidden": true,
    "run_control": {
     "marked": false
    }
   },
   "source": [
    "We want to remove cells that have <B>too many mitochondrial genes expressed</B> or <B>too many total counts</B>. In order to do that, we can use the scatter plots to pick a threshold for filtering."
   ]
  },
  {
   "cell_type": "code",
   "execution_count": null,
   "metadata": {
    "ExecuteTime": {
     "end_time": "2018-08-31T10:22:26.477714Z",
     "start_time": "2018-08-31T10:22:25.741321Z"
    },
    "cell_style": "split",
    "hidden": true,
    "run_control": {
     "marked": false
    }
   },
   "outputs": [],
   "source": [
    "sc.pl.scatter(adata, x='n_counts', y='percent_mito')\n",
    "sc.pl.scatter(adata, x='n_counts', y='n_genes')"
   ]
  },
  {
   "cell_type": "code",
   "execution_count": null,
   "metadata": {
    "ExecuteTime": {
     "end_time": "2018-09-01T07:13:47.034937Z",
     "start_time": "2018-09-01T07:13:46.355815Z"
    },
    "cell_style": "split",
    "hidden": true,
    "run_control": {
     "marked": false
    }
   },
   "outputs": [],
   "source": [
    "sc.pl.scatter(adata2, x='n_counts', y='percent_mito')\n",
    "sc.pl.scatter(adata2, x='n_counts', y='n_genes')"
   ]
  },
  {
   "cell_type": "markdown",
   "metadata": {
    "heading_collapsed": true,
    "hidden": true
   },
   "source": [
    "#### Filtering Mitochondrial Genes"
   ]
  },
  {
   "cell_type": "markdown",
   "metadata": {
    "hidden": true,
    "run_control": {
     "marked": false
    }
   },
   "source": [
    "<font color=blue>Before we start filtering the data using the cutoffs we picked based on the basic inspection and the plots above, there are many common ways we could try to find the outliers. For example, <B><I>interquartile range method</B></I>.</font>"
   ]
  },
  {
   "cell_type": "code",
   "execution_count": null,
   "metadata": {
    "code_folding": [],
    "hidden": true
   },
   "outputs": [],
   "source": [
    "from scipy.stats import iqr\n",
    "#print(adata.obs['n_genes'])\n",
    "def outliers_iqr(dat):\n",
    "    quartile_1, quartile_3 = np.percentile(dat, [25, 75])\n",
    "    iqr_ = iqr(dat) #iqr = quartile_3 - quartile_1\n",
    "    print (\"IQR = \", iqr_)\n",
    "    print (\"Q1 = \", quartile_1)\n",
    "    print (\"Q3 = \", quartile_3)\n",
    "    lower_bound = quartile_1 - (iqr_ * 1.5)\n",
    "    upper_bound = quartile_3 + (iqr_ * 1.5)\n",
    "    print(\"---------------------\")\n",
    "    print (\"The cutoffs are: \\nlower=\", lower_bound, \", upper=\", upper_bound)\n",
    "    return np.where((dat > upper_bound) | (dat < lower_bound))"
   ]
  },
  {
   "cell_type": "code",
   "execution_count": null,
   "metadata": {
    "cell_style": "split",
    "code_folding": [],
    "format": "row",
    "hidden": true,
    "run_control": {
     "marked": false
    }
   },
   "outputs": [],
   "source": [
    "data = outliers_iqr(adata.obs['n_genes'])\n",
    "print(\"--------------------------------------\")\n",
    "print(\"The list of outliers if we use this method: (\"+str(len(data[0]))+\" outliers)\")\n",
    "print(\"--------------------------------------\")\n",
    "print(adata.obs.iloc[data].head(5))"
   ]
  },
  {
   "cell_type": "code",
   "execution_count": null,
   "metadata": {
    "cell_style": "split",
    "code_folding": [],
    "hidden": true,
    "run_control": {
     "marked": false
    }
   },
   "outputs": [],
   "source": [
    "data2 = outliers_iqr(adata2.obs['n_genes'])\n",
    "print(\"--------------------------------------\")\n",
    "print(\"The list of outliers if we use this method: (\"+str(len(data2[0]))+\" outliers)\")\n",
    "print(\"--------------------------------------\")\n",
    "print(adata2.obs.iloc[data2].head(5))"
   ]
  },
  {
   "cell_type": "markdown",
   "metadata": {
    "hidden": true
   },
   "source": [
    "---------------------------"
   ]
  },
  {
   "cell_type": "markdown",
   "metadata": {
    "hidden": true,
    "run_control": {
     "marked": false
    }
   },
   "source": [
    "<font color=\"blue\">Here, we apply the same cutoffs (from the original notebook) for both datasets. As it's mentioned above, this will result in more stringent filtering for one of the datasets. The cutoff for numbers of genes per cell is 2500, and the threshold for the mito percentage is 0.05.</font> "
   ]
  },
  {
   "cell_type": "code",
   "execution_count": null,
   "metadata": {
    "ExecuteTime": {
     "end_time": "2018-08-31T10:22:26.563684Z",
     "start_time": "2018-08-31T10:22:26.481728Z"
    },
    "cell_style": "split",
    "hidden": true,
    "run_control": {
     "marked": false
    }
   },
   "outputs": [],
   "source": [
    "adata = adata[adata.obs['n_genes'] < 2500, :]\n",
    "print(\"After filtering counts: \", adata.shape)\n",
    "adata = adata[adata.obs['percent_mito'] < 0.05, :]\n",
    "print(\"After filtering mito%: \", adata.shape)"
   ]
  },
  {
   "cell_type": "code",
   "execution_count": null,
   "metadata": {
    "ExecuteTime": {
     "end_time": "2018-09-01T07:13:47.101840Z",
     "start_time": "2018-09-01T07:13:47.038951Z"
    },
    "cell_style": "split",
    "hidden": true,
    "run_control": {
     "marked": false
    }
   },
   "outputs": [],
   "source": [
    "adata2 = adata2[adata2.obs['n_genes'] < 2500, :]\n",
    "print(\"After filtering counts: \", adata2.shape)\n",
    "adata2 = adata2[adata2.obs['percent_mito'] < 0.05, :]\n",
    "print(\"After filtering mito%: \", adata2.shape)"
   ]
  },
  {
   "cell_type": "markdown",
   "metadata": {
    "hidden": true
   },
   "source": [
    "---------------------------"
   ]
  },
  {
   "cell_type": "markdown",
   "metadata": {
    "hidden": true,
    "run_control": {
     "marked": false
    }
   },
   "source": [
    "Set the `.raw` attribute of AnnData object to the logarithmized raw gene expression for later use in differential testing and visualizations of gene expression. This simply freezes the state of the AnnData object returned by `sc.pp.log1p`."
   ]
  },
  {
   "cell_type": "code",
   "execution_count": null,
   "metadata": {
    "ExecuteTime": {
     "end_time": "2018-08-31T10:22:26.717965Z",
     "start_time": "2018-08-31T10:22:26.566885Z"
    },
    "cell_style": "split",
    "hidden": true,
    "run_control": {
     "marked": false
    }
   },
   "outputs": [],
   "source": [
    "#Logarithmize the data matrix.\n",
    "#Computes X = log(X + 1), where log denotes the natural logarithm.\n",
    "adata.raw = sc.pp.log1p(adata, copy=True)"
   ]
  },
  {
   "cell_type": "code",
   "execution_count": null,
   "metadata": {
    "ExecuteTime": {
     "end_time": "2018-09-01T07:13:47.191696Z",
     "start_time": "2018-09-01T07:13:47.104915Z"
    },
    "cell_style": "split",
    "hidden": true,
    "run_control": {
     "marked": false
    }
   },
   "outputs": [],
   "source": [
    "#Logarithmize the data matrix.\n",
    "#Computes X = log(X + 1), where log denotes the natural logarithm.\n",
    "adata2.raw = sc.pp.log1p(adata2, copy=True)"
   ]
  },
  {
   "cell_type": "code",
   "execution_count": null,
   "metadata": {
    "cell_style": "split",
    "hidden": true,
    "run_control": {
     "marked": false
    }
   },
   "outputs": [],
   "source": [
    "print(adata)"
   ]
  },
  {
   "cell_type": "code",
   "execution_count": null,
   "metadata": {
    "cell_style": "split",
    "hidden": true,
    "run_control": {
     "marked": false
    }
   },
   "outputs": [],
   "source": [
    "print(adata2)"
   ]
  },
  {
   "cell_type": "markdown",
   "metadata": {
    "heading_collapsed": true,
    "hidden": true
   },
   "source": [
    "### Normalization"
   ]
  },
  {
   "cell_type": "markdown",
   "metadata": {
    "hidden": true,
    "run_control": {
     "marked": false
    }
   },
   "source": [
    "Per-cell normalize the data matrix $\\mathbf{X}$. Many people would consider the normalized data matrix as the \"relevant data\" for visualization and differential testing (assessing feature importance). Until a common viewpoint is reached on this, the decision of what to consider \"raw\", is up to the user. We tend to recommend to use the normalized data for visualization and differential testing even though here, we use the non-normalized data for the sake of consistency with the Seurat tutorial."
   ]
  },
  {
   "cell_type": "code",
   "execution_count": null,
   "metadata": {
    "ExecuteTime": {
     "end_time": "2018-08-31T10:22:26.803599Z",
     "start_time": "2018-08-31T10:22:26.721053Z"
    },
    "cell_style": "split",
    "code_folding": [],
    "hidden": true,
    "run_control": {
     "marked": false
    }
   },
   "outputs": [],
   "source": [
    "#Normalize total counts per cell.\n",
    "#Normalize each cell by total counts over all genes, \n",
    "#so that every cell has the same total count after normalization.\n",
    "#counts_per_cell_after : float or None, optional (default: None)\n",
    "#If None, after normalization, each cell has a total count equal to \n",
    "#the median of the counts_per_cell before normalization. why 1e4?\n",
    "sc.pp.normalize_per_cell(adata, counts_per_cell_after=1e4)"
   ]
  },
  {
   "cell_type": "code",
   "execution_count": null,
   "metadata": {
    "ExecuteTime": {
     "end_time": "2018-09-01T07:13:47.246775Z",
     "start_time": "2018-09-01T07:13:47.194080Z"
    },
    "cell_style": "split",
    "hidden": true,
    "run_control": {
     "marked": false
    }
   },
   "outputs": [],
   "source": [
    "#Normalize total counts per cell.\n",
    "#Normalize each cell by total counts over all genes, \n",
    "#so that every cell has the same total count after normalization.\n",
    "#counts_per_cell_after : float or None, optional (default: None)\n",
    "#If None, after normalization, each cell has a total count equal to \n",
    "#the median of the counts_per_cell before normalization. why 1e4?\n",
    "sc.pp.normalize_per_cell(adata2, counts_per_cell_after=1e4)"
   ]
  },
  {
   "cell_type": "markdown",
   "metadata": {
    "hidden": true
   },
   "source": [
    "---------------------------"
   ]
  },
  {
   "cell_type": "markdown",
   "metadata": {
    "hidden": true
   },
   "source": [
    "<font color=\"blue\">Here, we just inspect the sparse dataframe for the datasets after normalization.</font> (Not needed!)"
   ]
  },
  {
   "cell_type": "code",
   "execution_count": null,
   "metadata": {
    "ExecuteTime": {
     "end_time": "2018-08-31T10:22:24.723502Z",
     "start_time": "2018-08-31T10:22:24.668682Z"
    },
    "cell_style": "split",
    "code_folding": [],
    "hidden": true,
    "run_control": {
     "marked": false
    }
   },
   "outputs": [],
   "source": [
    "#df.reset_index(drop=True, inplace=True)\n",
    "#df = pd.DataFrame()\n",
    "df = pd.SparseDataFrame(adata.X, index=adata.obs_names, columns=adata.var_names, copy=True)\n",
    "print(df.shape)\n",
    "df = pd.concat([df,pd.DataFrame(df.sum(axis=1, skipna=True),columns=['Total'])],axis=1)\n",
    "df_min = pd.DataFrame(df.min(axis=0, skipna=True),columns=['Min'])\n",
    "df_max = pd.DataFrame(df.max(axis=0, skipna=True),columns=['Max'])\n",
    "df_mean = pd.DataFrame(df.mean(axis=0, skipna=True),columns=['Mean'])\n",
    "df_std = pd.DataFrame(df.std(axis=0, skipna=True),columns=['Std'])\n",
    "df_var = pd.DataFrame(df.var(axis=0, skipna=True),columns=['Var'])\n",
    "\n",
    "df = pd.concat([df, df_min.T])\n",
    "df = pd.concat([df, df_max.T])  \n",
    "df = pd.concat([df, df_mean.T]) \n",
    "df = pd.concat([df, df_std.T]) \n",
    "df = pd.concat([df, df_var.T]) \n",
    "df.tail(10)"
   ]
  },
  {
   "cell_type": "code",
   "execution_count": null,
   "metadata": {
    "ExecuteTime": {
     "end_time": "2018-09-01T07:13:45.387781Z",
     "start_time": "2018-09-01T07:13:45.331179Z"
    },
    "cell_style": "split",
    "code_folding": [],
    "hidden": true,
    "run_control": {
     "marked": false
    }
   },
   "outputs": [],
   "source": [
    "#df.reset_index(drop=True, inplace=True)\n",
    "#df = pd.DataFrame()\n",
    "df2 = pd.SparseDataFrame(adata2.X, index=adata2.obs_names, columns=adata2.var_names, copy=True)\n",
    "print (df2.shape)\n",
    "df2 = pd.concat([df2,pd.DataFrame(df2.sum(axis=1, skipna=True),columns=['Total'])],axis=1)\n",
    "df2_min = pd.DataFrame(df2.min(axis=0, skipna=True),columns=['Min'])\n",
    "df2_max = pd.DataFrame(df2.max(axis=0, skipna=True),columns=['Max'])\n",
    "df2_mean = pd.DataFrame(df2.mean(axis=0, skipna=True),columns=['Mean'])\n",
    "df2_std = pd.DataFrame(df2.std(axis=0, skipna=True),columns=['Std'])\n",
    "df2_var = pd.DataFrame(df2.var(axis=0, skipna=True),columns=['Var'])\n",
    "\n",
    "df2 = pd.concat([df2, df2_min.T])\n",
    "df2 = pd.concat([df2, df2_max.T])  \n",
    "df2 = pd.concat([df2, df2_mean.T])\n",
    "df2 = pd.concat([df2, df2_std.T]) \n",
    "df2 = pd.concat([df2, df2_var.T]) \n",
    "df2.tail(10)"
   ]
  },
  {
   "cell_type": "markdown",
   "metadata": {
    "heading_collapsed": true,
    "hidden": true,
    "run_control": {
     "marked": false
    }
   },
   "source": [
    "### Identifying Highly-Variable Genes"
   ]
  },
  {
   "cell_type": "code",
   "execution_count": null,
   "metadata": {
    "ExecuteTime": {
     "end_time": "2018-08-31T10:22:28.076662Z",
     "start_time": "2018-08-31T10:22:26.806372Z"
    },
    "cell_style": "split",
    "code_folding": [],
    "hidden": true,
    "run_control": {
     "marked": false
    }
   },
   "outputs": [],
   "source": [
    "#Extract highly variable genes.\n",
    "#If trying out parameters, pass the data matrix instead of AnnData.\n",
    "#The normalized dispersion is obtained by scaling with the mean and standard deviation \n",
    "#of the dispersions for genes falling into a given bin for mean expression of genes. \n",
    "#This means that for each bin of mean expression, highly variable genes are selected.\n",
    "sc.settings.verbosity = 4\n",
    "filter_result = sc.pp.filter_genes_dispersion(adata.X, min_mean=0.0125, max_mean=3, min_disp=0.5)\n",
    "#.means, .dispersions, .dispersions_norm\n",
    "#print(filter_result)\n",
    "sc.pl.filter_genes_dispersion(filter_result)"
   ]
  },
  {
   "cell_type": "code",
   "execution_count": null,
   "metadata": {
    "ExecuteTime": {
     "end_time": "2018-09-01T07:13:48.311869Z",
     "start_time": "2018-09-01T07:13:47.249568Z"
    },
    "cell_style": "split",
    "code_folding": [],
    "hidden": true,
    "run_control": {
     "marked": false
    }
   },
   "outputs": [],
   "source": [
    "#Extract highly variable genes.\n",
    "#If trying out parameters, pass the data matrix instead of AnnData.\n",
    "#The normalized dispersion is obtained by scaling with the mean and standard deviation \n",
    "#of the dispersions for genes falling into a given bin for mean expression of genes. \n",
    "#This means that for each bin of mean expression, highly variable genes are selected.\n",
    "sc.settings.verbosity = 4\n",
    "filter_result2 = sc.pp.filter_genes_dispersion(adata2.X, min_mean=0.0125, max_mean=3, min_disp=0.5)\n",
    "#.means, .dispersions, .dispersions_norm\n",
    "#print(filter_result2)\n",
    "sc.pl.filter_genes_dispersion(filter_result2)"
   ]
  },
  {
   "cell_type": "markdown",
   "metadata": {
    "hidden": true
   },
   "source": [
    "---------------------------"
   ]
  },
  {
   "cell_type": "markdown",
   "metadata": {
    "hidden": true
   },
   "source": [
    "<font color=\"blue\">Before we filter the data using the gene subset of the highly expressed genes, let's take a look at the gene numbers.</font>"
   ]
  },
  {
   "cell_type": "code",
   "execution_count": null,
   "metadata": {
    "cell_style": "split",
    "hidden": true,
    "run_control": {
     "marked": false
    }
   },
   "outputs": [],
   "source": [
    "tmp = adata[:, filter_result.gene_subset].var\n",
    "print(\"# of highly expressed genes: \", len(tmp))\n",
    "print(tmp.head(5))"
   ]
  },
  {
   "cell_type": "code",
   "execution_count": null,
   "metadata": {
    "cell_style": "split",
    "hidden": true,
    "run_control": {
     "marked": false
    },
    "scrolled": false
   },
   "outputs": [],
   "source": [
    "tmp2 = adata2[:, filter_result2.gene_subset].var\n",
    "print(\"# of highly expressed genes: \", len(tmp2))\n",
    "print(tmp2.head(5))"
   ]
  },
  {
   "cell_type": "markdown",
   "metadata": {
    "cell_style": "center",
    "hidden": true,
    "run_control": {
     "marked": false
    }
   },
   "source": [
    "<font color=blue>Let's find out how many genes are highly expressed in both datasets:</blue>"
   ]
  },
  {
   "cell_type": "code",
   "execution_count": null,
   "metadata": {
    "hidden": true,
    "scrolled": false
   },
   "outputs": [],
   "source": [
    "intersect_names = set([s.split('.')[0] for s in tmp.index]) & set([s2.split('.')[0] for s2 in tmp2.index])\n",
    "print(\"Given the cutoffs above, the number of highly expressed genes in both datasets is: \",len(intersect_names))\n",
    "\n",
    "intersect_ensemble = set(list(tmp['var_ensemble'])) & set(list(tmp2['var_ensemble']))\n",
    "print(\"Given the cutoffs above, the number of highly expressed genes (ensemble) in both datasets is: \",len(intersect_ensemble))\n"
   ]
  },
  {
   "cell_type": "markdown",
   "metadata": {
    "hidden": true
   },
   "source": [
    "<font color=blue>It's clearly seen that the cutoffs we used above for identifying the highly expressed genes are too stringent to integrate the two datasets. In the second section (Integrating the two datasets), we might want to try the parameter <B><I>n_top_genes</I></B> to select the number of highly expressed genes returned by the function for both datasets in order to increase the intersection of genes.</font>"
   ]
  },
  {
   "cell_type": "markdown",
   "metadata": {
    "hidden": true
   },
   "source": [
    "---------------------------"
   ]
  },
  {
   "cell_type": "markdown",
   "metadata": {
    "heading_collapsed": true,
    "hidden": true
   },
   "source": [
    "### More Processing"
   ]
  },
  {
   "cell_type": "markdown",
   "metadata": {
    "heading_collapsed": true,
    "hidden": true
   },
   "source": [
    "#### Filtering the Data --using the list of highly expressed genes"
   ]
  },
  {
   "cell_type": "markdown",
   "metadata": {
    "hidden": true,
    "run_control": {
     "marked": false
    }
   },
   "source": [
    "Actually do the <B>filtering</B> using the list of highly expressed genes we extracted above."
   ]
  },
  {
   "cell_type": "code",
   "execution_count": null,
   "metadata": {
    "ExecuteTime": {
     "end_time": "2018-08-31T10:22:28.131040Z",
     "start_time": "2018-08-31T10:22:28.079990Z"
    },
    "cell_style": "split",
    "hidden": true,
    "run_control": {
     "marked": false
    },
    "scrolled": true
   },
   "outputs": [],
   "source": [
    "adata = adata[:, filter_result.gene_subset]\n",
    "print (adata)"
   ]
  },
  {
   "cell_type": "code",
   "execution_count": null,
   "metadata": {
    "ExecuteTime": {
     "end_time": "2018-09-01T07:13:48.354736Z",
     "start_time": "2018-09-01T07:13:48.315395Z"
    },
    "cell_style": "split",
    "hidden": true,
    "run_control": {
     "marked": false
    }
   },
   "outputs": [],
   "source": [
    "adata2 = adata2[:, filter_result2.gene_subset]\n",
    "print (adata2)"
   ]
  },
  {
   "cell_type": "markdown",
   "metadata": {
    "hidden": true
   },
   "source": [
    "---------------------------"
   ]
  },
  {
   "cell_type": "markdown",
   "metadata": {
    "heading_collapsed": true,
    "hidden": true,
    "run_control": {
     "marked": false
    }
   },
   "source": [
    "#### Logarithmizing the Data"
   ]
  },
  {
   "cell_type": "code",
   "execution_count": null,
   "metadata": {
    "ExecuteTime": {
     "end_time": "2018-08-31T10:22:33.747469Z",
     "start_time": "2018-08-31T10:22:28.135095Z"
    },
    "cell_style": "split",
    "hidden": true,
    "run_control": {
     "marked": false
    }
   },
   "outputs": [],
   "source": [
    "sc.pp.log1p(adata)"
   ]
  },
  {
   "cell_type": "code",
   "execution_count": null,
   "metadata": {
    "ExecuteTime": {
     "end_time": "2018-09-01T07:13:54.024096Z",
     "start_time": "2018-09-01T07:13:48.358047Z"
    },
    "cell_style": "split",
    "hidden": true,
    "run_control": {
     "marked": false
    }
   },
   "outputs": [],
   "source": [
    "sc.pp.log1p(adata2)"
   ]
  },
  {
   "cell_type": "code",
   "execution_count": null,
   "metadata": {
    "cell_style": "split",
    "hidden": true,
    "run_control": {
     "marked": false
    }
   },
   "outputs": [],
   "source": [
    "adata.obs"
   ]
  },
  {
   "cell_type": "code",
   "execution_count": null,
   "metadata": {
    "cell_style": "split",
    "hidden": true,
    "run_control": {
     "marked": false
    }
   },
   "outputs": [],
   "source": [
    "adata2.obs"
   ]
  },
  {
   "cell_type": "markdown",
   "metadata": {
    "hidden": true
   },
   "source": [
    "---------------------------"
   ]
  },
  {
   "cell_type": "markdown",
   "metadata": {
    "heading_collapsed": true,
    "hidden": true
   },
   "source": [
    "#### Regressing out Unwanted Source of Variation"
   ]
  },
  {
   "cell_type": "markdown",
   "metadata": {
    "hidden": true,
    "run_control": {
     "marked": false
    }
   },
   "source": [
    "<B>Regress out</B> effects of total counts per cell and the percentage of mitochondrial genes expressed. Scale the data to unit variance."
   ]
  },
  {
   "cell_type": "code",
   "execution_count": null,
   "metadata": {
    "ExecuteTime": {
     "end_time": "2018-08-31T10:22:39.961683Z",
     "start_time": "2018-08-31T10:22:33.749605Z"
    },
    "cell_style": "split",
    "code_folding": [],
    "hidden": true,
    "run_control": {
     "marked": false
    }
   },
   "outputs": [],
   "source": [
    "#Regress out unwanted sources of variation.\n",
    "#Uses simple linear regression.\n",
    "sc.pp.regress_out(adata, ['n_counts', 'percent_mito'])\n",
    "print (adata)"
   ]
  },
  {
   "cell_type": "code",
   "execution_count": null,
   "metadata": {
    "ExecuteTime": {
     "end_time": "2018-09-01T07:14:01.919967Z",
     "start_time": "2018-09-01T07:13:54.027072Z"
    },
    "cell_style": "split",
    "code_folding": [],
    "hidden": true,
    "run_control": {
     "marked": false
    }
   },
   "outputs": [],
   "source": [
    "#Regress out unwanted sources of variation.\n",
    "#Uses simple linear regression.\n",
    "sc.pp.regress_out(adata2, ['n_counts', 'percent_mito'])\n",
    "print (adata2)"
   ]
  },
  {
   "cell_type": "markdown",
   "metadata": {
    "hidden": true
   },
   "source": [
    "---------------------------"
   ]
  },
  {
   "cell_type": "code",
   "execution_count": null,
   "metadata": {
    "cell_style": "split",
    "code_folding": [],
    "hidden": true,
    "run_control": {
     "marked": false
    }
   },
   "outputs": [],
   "source": [
    "df = pd.SparseDataFrame(adata.X, index=adata.obs_names, columns=adata.var_names, copy=True)\n",
    "print(df.shape)\n",
    "df = pd.concat([df,pd.DataFrame(df.sum(axis=1, skipna=True),columns=['Total'])],axis=1)\n",
    "df_min = pd.DataFrame(df.min(axis=0, skipna=True),columns=['Min'])\n",
    "df_max = pd.DataFrame(df.max(axis=0, skipna=True),columns=['Max'])\n",
    "df_mean = pd.DataFrame(df.mean(axis=0, skipna=True),columns=['Mean'])\n",
    "df_std = pd.DataFrame(df.std(axis=0, skipna=True),columns=['Std'])\n",
    "df_var = pd.DataFrame(df.var(axis=0, skipna=True),columns=['Var'])\n",
    "\n",
    "df = pd.concat([df, df_min.T])\n",
    "df = pd.concat([df, df_max.T])  \n",
    "df = pd.concat([df, df_mean.T]) \n",
    "df = pd.concat([df, df_std.T]) \n",
    "df = pd.concat([df, df_var.T]) \n",
    "df.tail(10)"
   ]
  },
  {
   "cell_type": "code",
   "execution_count": null,
   "metadata": {
    "cell_style": "split",
    "code_folding": [],
    "hidden": true,
    "run_control": {
     "marked": false
    }
   },
   "outputs": [],
   "source": [
    "df2 = pd.SparseDataFrame(adata2.X, index=adata2.obs_names, columns=adata2.var_names, copy=True)\n",
    "print (df2.shape)\n",
    "df2 = pd.concat([df2,pd.DataFrame(df2.sum(axis=1, skipna=True),columns=['Total'])],axis=1)\n",
    "df2_min = pd.DataFrame(df2.min(axis=0, skipna=True),columns=['Min'])\n",
    "df2_max = pd.DataFrame(df2.max(axis=0, skipna=True),columns=['Max'])\n",
    "df2_mean = pd.DataFrame(df2.mean(axis=0, skipna=True),columns=['Mean'])\n",
    "df2_std = pd.DataFrame(df2.std(axis=0, skipna=True),columns=['Std'])\n",
    "df2_var = pd.DataFrame(df2.var(axis=0, skipna=True),columns=['Var'])\n",
    "\n",
    "df2 = pd.concat([df2, df2_min.T])\n",
    "df2 = pd.concat([df2, df2_max.T])  \n",
    "df2 = pd.concat([df2, df2_mean.T])\n",
    "df2 = pd.concat([df2, df2_std.T]) \n",
    "df2 = pd.concat([df2, df2_var.T]) \n",
    "df2.tail(10)"
   ]
  },
  {
   "cell_type": "markdown",
   "metadata": {
    "heading_collapsed": true,
    "hidden": true
   },
   "source": [
    "#### Scaling the Data"
   ]
  },
  {
   "cell_type": "code",
   "execution_count": null,
   "metadata": {
    "ExecuteTime": {
     "end_time": "2018-08-31T10:22:40.057366Z",
     "start_time": "2018-08-31T10:22:39.966962Z"
    },
    "cell_style": "split",
    "code_folding": [],
    "hidden": true,
    "run_control": {
     "marked": false
    }
   },
   "outputs": [],
   "source": [
    "#Scale data to unit variance and zero mean.\n",
    "#The (annotated) data matrix of shape n_obs × n_vars. \n",
    "#Rows correspond to cells and columns to genes.\n",
    "#max_value : float or None, optional (default: None)\n",
    "#Clip (truncate) to this value after scaling. If None, do not clip.\n",
    "sc.pp.scale(adata, max_value=10)"
   ]
  },
  {
   "cell_type": "code",
   "execution_count": null,
   "metadata": {
    "ExecuteTime": {
     "end_time": "2018-08-31T10:22:40.057366Z",
     "start_time": "2018-08-31T10:22:39.966962Z"
    },
    "cell_style": "split",
    "code_folding": [],
    "hidden": true,
    "run_control": {
     "marked": false
    }
   },
   "outputs": [],
   "source": [
    "#Scale data to unit variance and zero mean.\n",
    "#The (annotated) data matrix of shape n_obs × n_vars. \n",
    "#Rows correspond to cells and columns to genes.\n",
    "#max_value : float or None, optional (default: None)\n",
    "#Clip (truncate) to this value after scaling. If None, do not clip.\n",
    "sc.pp.scale(adata2, max_value=10)"
   ]
  },
  {
   "cell_type": "markdown",
   "metadata": {
    "hidden": true
   },
   "source": [
    "---------------------------"
   ]
  },
  {
   "cell_type": "code",
   "execution_count": null,
   "metadata": {
    "cell_style": "split",
    "code_folding": [],
    "hidden": true,
    "run_control": {
     "marked": false
    }
   },
   "outputs": [],
   "source": [
    "df = pd.SparseDataFrame(adata.X, index=adata.obs_names, columns=adata.var_names, copy=True)\n",
    "print(df.shape)\n",
    "df = pd.concat([df,pd.DataFrame(df.sum(axis=1, skipna=True),columns=['Total'])],axis=1)\n",
    "df_min = pd.DataFrame(df.min(axis=0, skipna=True),columns=['Min'])\n",
    "df_max = pd.DataFrame(df.max(axis=0, skipna=True),columns=['Max'])\n",
    "df_mean = pd.DataFrame(df.mean(axis=0, skipna=True),columns=['Mean'])\n",
    "df_std = pd.DataFrame(df.std(axis=0, skipna=True),columns=['Std'])\n",
    "df_var = pd.DataFrame(df.var(axis=0, skipna=True),columns=['Var'])\n",
    "\n",
    "df = pd.concat([df, df_min.T])\n",
    "df = pd.concat([df, df_max.T])  \n",
    "df = pd.concat([df, df_mean.T]) \n",
    "df = pd.concat([df, df_std.T]) \n",
    "df = pd.concat([df, df_var.T]) \n",
    "df.tail(10)"
   ]
  },
  {
   "cell_type": "code",
   "execution_count": null,
   "metadata": {
    "cell_style": "split",
    "code_folding": [],
    "hidden": true,
    "run_control": {
     "marked": false
    }
   },
   "outputs": [],
   "source": [
    "df2 = pd.SparseDataFrame(adata2.X, index=adata2.obs_names, columns=adata2.var_names, copy=True)\n",
    "print (df2.shape)\n",
    "df2 = pd.concat([df2,pd.DataFrame(df2.sum(axis=1, skipna=True),columns=['Total'])],axis=1)\n",
    "df2_min = pd.DataFrame(df2.min(axis=0, skipna=True),columns=['Min'])\n",
    "df2_max = pd.DataFrame(df2.max(axis=0, skipna=True),columns=['Max'])\n",
    "df2_mean = pd.DataFrame(df2.mean(axis=0, skipna=True),columns=['Mean'])\n",
    "df2_std = pd.DataFrame(df2.std(axis=0, skipna=True),columns=['Std'])\n",
    "df2_var = pd.DataFrame(df2.var(axis=0, skipna=True),columns=['Var'])\n",
    "\n",
    "df2 = pd.concat([df2, df2_min.T])\n",
    "df2 = pd.concat([df2, df2_max.T])  \n",
    "df2 = pd.concat([df2, df2_mean.T])\n",
    "df2 = pd.concat([df2, df2_std.T]) \n",
    "df2 = pd.concat([df2, df2_var.T]) \n",
    "df2.tail(10)"
   ]
  },
  {
   "cell_type": "markdown",
   "metadata": {
    "cell_style": "center",
    "hidden": true,
    "run_control": {
     "marked": false
    }
   },
   "source": [
    "Save the results."
   ]
  },
  {
   "cell_type": "code",
   "execution_count": null,
   "metadata": {
    "ExecuteTime": {
     "end_time": "2018-08-31T10:22:41.379012Z",
     "start_time": "2018-08-31T10:22:40.061128Z"
    },
    "cell_style": "split",
    "hidden": true,
    "run_control": {
     "marked": false
    }
   },
   "outputs": [],
   "source": [
    "adata.write(results_file)"
   ]
  },
  {
   "cell_type": "code",
   "execution_count": null,
   "metadata": {
    "ExecuteTime": {
     "end_time": "2018-09-01T07:14:02.492002Z",
     "start_time": "2018-09-01T07:14:01.988311Z"
    },
    "cell_style": "split",
    "hidden": true,
    "run_control": {
     "marked": false
    }
   },
   "outputs": [],
   "source": [
    "adata2.write(results_file2)"
   ]
  },
  {
   "cell_type": "markdown",
   "metadata": {
    "heading_collapsed": true,
    "run_control": {
     "marked": false
    }
   },
   "source": [
    "## PCA"
   ]
  },
  {
   "cell_type": "markdown",
   "metadata": {
    "hidden": true,
    "run_control": {
     "marked": false
    }
   },
   "source": [
    "Compute PCA and make a scatter plot."
   ]
  },
  {
   "cell_type": "code",
   "execution_count": null,
   "metadata": {
    "ExecuteTime": {
     "end_time": "2018-08-31T10:22:41.845479Z",
     "start_time": "2018-08-31T10:22:41.381189Z"
    },
    "cell_style": "split",
    "code_folding": [],
    "hidden": true,
    "run_control": {
     "marked": false
    }
   },
   "outputs": [],
   "source": [
    "#Computes PCA coordinates, loadings and variance decomposition. \n",
    "#n_comps : int, optional (default: 50); Number of principal components to compute.\n",
    "#zero_center : bool or None, optional (default: True); If True, compute standard PCA from covariance matrix. If False, omit zero-centering variables (uses TruncatedSVD from scikit-learn), which allows to handle sparse input efficiently.\n",
    "#svd_solver : str, optional (default: ‘auto’); SVD solver to use. Either ‘arpack’ for the ARPACK wrapper in SciPy (scipy.sparse.linalg.svds), or ‘randomized’ for the randomized algorithm due to Halko (2009). ‘auto’ chooses automatically depending on the size of the problem.\n",
    "#random_state : int, optional (default: 0); Change to use different intial states for the optimization.\n",
    "sc.tl.pca(adata)"
   ]
  },
  {
   "cell_type": "code",
   "execution_count": null,
   "metadata": {
    "ExecuteTime": {
     "end_time": "2018-09-01T07:14:03.007572Z",
     "start_time": "2018-09-01T07:14:02.494688Z"
    },
    "cell_style": "split",
    "code_folding": [],
    "hidden": true,
    "run_control": {
     "marked": false
    }
   },
   "outputs": [],
   "source": [
    "#Computes PCA coordinates, loadings and variance decomposition. \n",
    "#n_comps : int, optional (default: 50); Number of principal components to compute.\n",
    "#zero_center : bool or None, optional (default: True); If True, compute standard PCA from covariance matrix. If False, omit zero-centering variables (uses TruncatedSVD from scikit-learn), which allows to handle sparse input efficiently.\n",
    "#svd_solver : str, optional (default: ‘auto’); SVD solver to use. Either ‘arpack’ for the ARPACK wrapper in SciPy (scipy.sparse.linalg.svds), or ‘randomized’ for the randomized algorithm due to Halko (2009). ‘auto’ chooses automatically depending on the size of the problem.\n",
    "#random_state : int, optional (default: 0); Change to use different intial states for the optimization.\n",
    "sc.tl.pca(adata2)"
   ]
  },
  {
   "cell_type": "code",
   "execution_count": null,
   "metadata": {
    "cell_style": "split",
    "hidden": true
   },
   "outputs": [],
   "source": [
    "adata.obsm['X_pca'] *= -1  # multiply by -1 to match Seurat"
   ]
  },
  {
   "cell_type": "code",
   "execution_count": null,
   "metadata": {
    "cell_style": "split",
    "hidden": true
   },
   "outputs": [],
   "source": [
    "adata2.obsm['X_pca'] *= -1  # multiply by -1 to match Seurat"
   ]
  },
  {
   "cell_type": "markdown",
   "metadata": {
    "hidden": true
   },
   "source": [
    "---------------------------"
   ]
  },
  {
   "cell_type": "markdown",
   "metadata": {
    "hidden": true
   },
   "source": [
    "<font color=blue>In the following step, we rank the genes under each single PC using pca loadings for both datasets to see if we can find any known marker genes in the PCs.</font>"
   ]
  },
  {
   "cell_type": "code",
   "execution_count": null,
   "metadata": {
    "cell_style": "split",
    "code_folding": [],
    "format": "row",
    "hidden": true,
    "run_control": {
     "marked": false
    }
   },
   "outputs": [],
   "source": [
    "print(adata.varm['PCs'].shape)\n",
    "loadings = pd.DataFrame(adata.varm['PCs'], index=adata.var_names, copy=True)\n",
    "PCs_df=pd.DataFrame(index=range(1,len(adata.var_names)+1))\n",
    "for i in range(50):\n",
    "    loadings=loadings.sort_values(i, axis=0, ascending=False, kind='quicksort', na_position='last')\n",
    "    PCs_df.insert(loc=i, column='PC'+str(i+1), value=list(loadings[loadings.columns[i]].index), allow_duplicates=True)\n",
    "PCs_df.shape\n",
    "PCs_df.head(10)"
   ]
  },
  {
   "cell_type": "code",
   "execution_count": null,
   "metadata": {
    "cell_style": "split",
    "code_folding": [],
    "hidden": true,
    "run_control": {
     "marked": false
    }
   },
   "outputs": [],
   "source": [
    "print(adata2.varm['PCs'].shape)\n",
    "loadings2 = pd.DataFrame(adata2.varm['PCs'], index=adata2.var_names, copy=True)\n",
    "PCs_df2=pd.DataFrame(index=range(1,len(adata2.var_names)+1))\n",
    "for i in range(50):\n",
    "    loadings2=loadings2.sort_values(i, axis=0, ascending=False, kind='quicksort', na_position='last')\n",
    "    PCs_df2.insert(loc=i, column='PC'+str(i+1), value=list(loadings2[loadings2.columns[i]].index), allow_duplicates=True)\n",
    "PCs_df2.shape\n",
    "PCs_df2.head(10)"
   ]
  },
  {
   "cell_type": "markdown",
   "metadata": {
    "hidden": true
   },
   "source": [
    "<B><font color=red>-------------------------------- For testing purposes! Don't run! ------------------------------------------</font></B>"
   ]
  },
  {
   "cell_type": "code",
   "execution_count": null,
   "metadata": {
    "cell_style": "split",
    "format": "row",
    "hidden": true
   },
   "outputs": [],
   "source": [
    "# if you want to look for a specific gene in the previous PCs dataframe, \n",
    "# change the following variables as needed:\n",
    "g='PPBP'\n",
    "#-------------------------------------------\n",
    "test_df=pd.DataFrame(index=range(1,len(np.where(PCs_df == g)[0])+1))\n",
    "test_df.insert(loc=0, column='gene_rank', value=list(np.where(PCs_df == g)[0]+1), allow_duplicates=True)\n",
    "test_df.insert(loc=1, column='PCs', value=list(np.where(PCs_df == g)[1]+1), allow_duplicates=True)\n",
    "print(test_df.shape)\n",
    "#Change it to 50 if you want to see all the rows.\n",
    "test_df.head(10)\n",
    "\n",
    "#np.where(PCs_df.iloc[1] == 'PBPP') #find the column index for PBPP in row with index 1\n",
    "#print(np.where(PCs_df == 'PPBP')[0])\n",
    "#pd.DataFrame(np.where(PCs_df == 'PPBP'),index= columns=['row_index', 'col_index'])"
   ]
  },
  {
   "cell_type": "code",
   "execution_count": null,
   "metadata": {
    "cell_style": "split",
    "hidden": true
   },
   "outputs": [],
   "source": [
    "# if you want to look for a specific gene in the previous PCs dataframe, \n",
    "# change the following variables as needed:\n",
    "g2='PPBP'\n",
    "#-------------------------------------------\n",
    "test_df2=pd.DataFrame(index=range(1,len(np.where(PCs_df2 == g2)[0])+1))\n",
    "test_df2.insert(loc=0, column='gene_rank', value=list(np.where(PCs_df2 == g2)[0]+1), allow_duplicates=True)\n",
    "test_df2.insert(loc=1, column='PCs', value=list(np.where(PCs_df2 == g2)[1]+1), allow_duplicates=True)\n",
    "print(test_df2.shape)\n",
    "#Change it to 50 if you want to see all the rows.\n",
    "test_df2.head(10)\n",
    "\n",
    "#np.where(PCs_df2.iloc[1] == 'PBPP') #find the column index for PBPP in row with index 1\n",
    "#print(np.where(PCs_df2 == 'PPBP')[0])\n",
    "#pd.DataFrame(np.where(PCs_df2 == 'PPBP'),index= columns=['row_index', 'col_index'])"
   ]
  },
  {
   "cell_type": "markdown",
   "metadata": {
    "hidden": true
   },
   "source": [
    "<B><font color=red>---------------------------------------------------------------------------------------------------------</font></B>"
   ]
  },
  {
   "cell_type": "markdown",
   "metadata": {
    "hidden": true
   },
   "source": [
    "---------------------------"
   ]
  },
  {
   "cell_type": "markdown",
   "metadata": {
    "cell_style": "center",
    "hidden": true,
    "run_control": {
     "marked": false
    }
   },
   "source": [
    "<font color=red><B>From the PCA Loadings above: </B><br/></font><font color=blue>\n",
    "We selected the following marker genes in the first four PCs:<ul>\n",
    "<li>1st Dataset: <B>CST3, NKG7, PPBP, CD79A</B></li>\n",
    "    <li>2nd Dataset: <B>CST3, CD79A, <S>CD79A</S>, MS4A1, MS4A7</B></li></ul>\n",
    "The two datasets have 2 known markers in their first PCs. However, NKG7 is not found in the second dataset. PPBP is ranked 2nd in PC7 in the second dataset.\n",
    "<br/><br/>\n",
    "Below, we plot the PCA with different components (PCs):\n",
    "</font>"
   ]
  },
  {
   "cell_type": "code",
   "execution_count": null,
   "metadata": {
    "ExecuteTime": {
     "end_time": "2018-08-31T10:22:42.278156Z",
     "start_time": "2018-08-31T10:22:41.847949Z"
    },
    "cell_style": "split",
    "hidden": true,
    "run_control": {
     "marked": false
    }
   },
   "outputs": [],
   "source": [
    "print (adata.obsm['X_pca'].shape)\n",
    "sc.pl.pca_scatter(adata, color=['CST3','NKG7', 'PPBP', 'CD79A'])\n",
    "sc.pl.pca_scatter(adata, color=['CST3','NKG7', 'PPBP', 'CD79A'],components='2,3')\n",
    "sc.pl.pca_scatter(adata, color=['CST3','NKG7', 'PPBP', 'CD79A'],components='1,3')\n",
    "sc.pl.pca_scatter(adata, color=['CST3','NKG7', 'PPBP', 'CD79A'],components='1,4')\n",
    "sc.pl.pca_scatter(adata, color=['CST3','NKG7', 'PPBP', 'CD79A'],components='2,4')\n",
    "sc.pl.pca_scatter(adata, color=['CST3','NKG7', 'PPBP', 'CD79A'],components='3,4')"
   ]
  },
  {
   "cell_type": "code",
   "execution_count": null,
   "metadata": {
    "ExecuteTime": {
     "end_time": "2018-09-01T07:14:03.423642Z",
     "start_time": "2018-09-01T07:14:03.010967Z"
    },
    "cell_style": "split",
    "hidden": true,
    "run_control": {
     "marked": false
    }
   },
   "outputs": [],
   "source": [
    "print (adata2.obsm['X_pca'].shape)\n",
    "sc.pl.pca_scatter(adata2, color=['CST3','CD79A', 'MS4A1', 'MS4A7'])\n",
    "sc.pl.pca_scatter(adata2, color=['CST3','CD79A', 'MS4A1', 'MS4A7'],components='2,3')\n",
    "sc.pl.pca_scatter(adata2, color=['CST3','CD79A', 'MS4A1', 'MS4A7'],components='1,3')\n",
    "sc.pl.pca_scatter(adata2, color=['CST3','CD79A', 'MS4A1', 'MS4A7'],components='1,4')\n",
    "sc.pl.pca_scatter(adata2, color=['CST3','CD79A', 'MS4A1', 'MS4A7'],components='2,4')\n",
    "sc.pl.pca_scatter(adata2, color=['CST3','CD79A', 'MS4A1', 'MS4A7'],components='3,4')"
   ]
  },
  {
   "cell_type": "markdown",
   "metadata": {
    "hidden": true
   },
   "source": [
    "---------------------------"
   ]
  },
  {
   "cell_type": "markdown",
   "metadata": {
    "hidden": true
   },
   "source": [
    "<font color=blue>Moreover, we can plot the gene ranks for the first four PCs as follows:</font>"
   ]
  },
  {
   "cell_type": "code",
   "execution_count": null,
   "metadata": {
    "cell_style": "split",
    "hidden": true,
    "run_control": {
     "marked": false
    }
   },
   "outputs": [],
   "source": [
    "sc.pl.pca_loadings(adata, [1,2,3,4])"
   ]
  },
  {
   "cell_type": "code",
   "execution_count": null,
   "metadata": {
    "cell_style": "split",
    "hidden": true,
    "run_control": {
     "marked": false
    }
   },
   "outputs": [],
   "source": [
    "sc.pl.pca_loadings(adata2, [1,2,3,4])"
   ]
  },
  {
   "cell_type": "markdown",
   "metadata": {
    "hidden": true,
    "run_control": {
     "marked": false
    }
   },
   "source": [
    "Let us inspect the contribution of single PCs to the total variance in the data. This gives us information about how many PCs we should consider in order to compute the neighborhood relations of cells, e.g. used in the clustering function  sc.tl.louvain() or tSNE sc.tl.tsne(). In our experience, often, a rough estimate of the number of PCs does fine. Seurat provides many more functions, here."
   ]
  },
  {
   "cell_type": "code",
   "execution_count": null,
   "metadata": {
    "ExecuteTime": {
     "end_time": "2018-08-31T10:22:42.768684Z",
     "start_time": "2018-08-31T10:22:42.281791Z"
    },
    "cell_style": "split",
    "hidden": true,
    "run_control": {
     "marked": false
    }
   },
   "outputs": [],
   "source": [
    "sc.pl.pca_variance_ratio(adata, log=True)"
   ]
  },
  {
   "cell_type": "code",
   "execution_count": null,
   "metadata": {
    "ExecuteTime": {
     "end_time": "2018-09-01T07:14:03.828262Z",
     "start_time": "2018-09-01T07:14:03.431270Z"
    },
    "cell_style": "split",
    "hidden": true,
    "run_control": {
     "marked": false
    }
   },
   "outputs": [],
   "source": [
    "sc.pl.pca_variance_ratio(adata2, log=True)"
   ]
  },
  {
   "cell_type": "markdown",
   "metadata": {
    "hidden": true,
    "run_control": {
     "marked": false
    }
   },
   "source": [
    "<font color=red><B>General Observation:</B></font><br/><font color=blue>As we can see above, the variance ratio shows that the first four PCs in the first dataset contribute  -significantly- more to the total variance. On the same level, the first three PCs in the second dataset have more contribution than the rest.</font>"
   ]
  },
  {
   "cell_type": "code",
   "execution_count": null,
   "metadata": {
    "ExecuteTime": {
     "end_time": "2018-08-31T10:22:44.188790Z",
     "start_time": "2018-08-31T10:22:42.771403Z"
    },
    "cell_style": "split",
    "hidden": true,
    "run_control": {
     "marked": false
    }
   },
   "outputs": [],
   "source": [
    "adata.write(results_file)"
   ]
  },
  {
   "cell_type": "code",
   "execution_count": null,
   "metadata": {
    "ExecuteTime": {
     "end_time": "2018-09-01T07:14:04.277860Z",
     "start_time": "2018-09-01T07:14:03.831598Z"
    },
    "cell_style": "split",
    "hidden": true,
    "run_control": {
     "marked": false
    }
   },
   "outputs": [],
   "source": [
    "adata2.write(results_file2)"
   ]
  },
  {
   "cell_type": "code",
   "execution_count": null,
   "metadata": {
    "ExecuteTime": {
     "end_time": "2018-08-31T10:22:44.197641Z",
     "start_time": "2018-08-31T10:22:44.191356Z"
    },
    "cell_style": "split",
    "hidden": true,
    "run_control": {
     "marked": false
    }
   },
   "outputs": [],
   "source": [
    "adata"
   ]
  },
  {
   "cell_type": "code",
   "execution_count": null,
   "metadata": {
    "ExecuteTime": {
     "end_time": "2018-09-01T07:14:04.285898Z",
     "start_time": "2018-09-01T07:14:04.279953Z"
    },
    "cell_style": "split",
    "hidden": true,
    "run_control": {
     "marked": false
    }
   },
   "outputs": [],
   "source": [
    "adata2"
   ]
  },
  {
   "cell_type": "markdown",
   "metadata": {
    "heading_collapsed": true,
    "run_control": {
     "marked": false
    }
   },
   "source": [
    "## tSNE"
   ]
  },
  {
   "cell_type": "markdown",
   "metadata": {
    "hidden": true,
    "run_control": {
     "marked": false
    }
   },
   "source": [
    "We now advertise visualizing the data using UMAP, see below. In particular, if you have large data, this will give you a much faster first view of the data."
   ]
  },
  {
   "cell_type": "code",
   "execution_count": null,
   "metadata": {
    "ExecuteTime": {
     "end_time": "2018-08-31T10:22:44.495552Z",
     "start_time": "2018-08-31T10:22:44.201089Z"
    },
    "cell_style": "split",
    "hidden": true,
    "run_control": {
     "marked": false
    }
   },
   "outputs": [],
   "source": [
    "adata = sc.read(results_file)"
   ]
  },
  {
   "cell_type": "code",
   "execution_count": null,
   "metadata": {
    "ExecuteTime": {
     "end_time": "2018-09-01T07:14:04.432589Z",
     "start_time": "2018-09-01T07:14:04.288804Z"
    },
    "cell_style": "split",
    "hidden": true,
    "run_control": {
     "marked": false
    }
   },
   "outputs": [],
   "source": [
    "adata2 = sc.read(results_file2)"
   ]
  },
  {
   "cell_type": "code",
   "execution_count": null,
   "metadata": {
    "ExecuteTime": {
     "end_time": "2018-08-31T10:22:54.830862Z",
     "start_time": "2018-08-31T10:22:44.498515Z"
    },
    "cell_style": "split",
    "code_folding": [
     0
    ],
    "hidden": true,
    "run_control": {
     "marked": false
    }
   },
   "outputs": [],
   "source": [
    "#t-distributed stochastic neighborhood embedding (tSNE) \n",
    "#for visualizating single-cell data. \n",
    "\n",
    "#n_pcs : int or None, optional (default: None); Use this many PCs. \n",
    "#If n_pcs==0 use .X if use_rep is None.\n",
    "\n",
    "#use_rep : {None, ‘X’} or any key for .obsm, optional (default: None)\n",
    "#Use the indicated representation. \n",
    "#If None, the representation is chosen automatically: for .n_vars < 50, \n",
    "#.X is used, otherwise ‘X_pca’ is used. If ‘X_pca’ is not present, \n",
    "#it’s computed with default parameters.\n",
    "\n",
    "#perplexity : float, optional (default: 30)\n",
    "#The perplexity is related to the number of nearest neighbors that is used \n",
    "#in other manifold learning algorithms. \n",
    "#Larger datasets usually require a larger perplexity. \n",
    "#Consider selecting a value between 5 and 50. The choice is not extremely critical \n",
    "#since t-SNE is quite insensitive to this parameter.\n",
    "\n",
    "#early_exaggeration : float, optional (default: 12.0)\n",
    "#Controls how tight natural clusters in the original space are in the embedded space \n",
    "#and how much space will be between them. \n",
    "#For larger values, the space between natural clusters will be larger in the embedded space. \n",
    "#Again, the choice of this parameter is not very critical. \n",
    "#If the cost function increases during initial optimization, \n",
    "#the early exaggeration factor or the learning rate might be too high.\n",
    "\n",
    "#learning_rate : float, optional (default: 1000)\n",
    "#Note that the R-package “Rtsne” uses a default of 200. \n",
    "#The learning rate can be a critical parameter. \n",
    "#It should be between 100 and 1000. \n",
    "#If the cost function increases during initial optimization, \n",
    "#the early exaggeration factor or the learning rate might be too high. \n",
    "#If the cost function gets stuck in a bad local minimum increasing the learning \n",
    "#rate helps sometimes.\n",
    "\n",
    "#random_state : int or None, optional (default: 0)\n",
    "#Change this to use different intial states for the optimization. \n",
    "#If None, the initial state is not reproducible.\n",
    "\n",
    "#use_fast_tsne : bool, optional (default: True)\n",
    "#Use the MulticoreTSNE package by D. Ulyanov if it is installed.\n",
    "\n",
    "#n_jobs : int or None (default: sc.settings.n_jobs)\n",
    "#Number of jobs.\n",
    "\n",
    "#copy : bool (default: False)\n",
    "#Return a copy instead of writing to adata.\n",
    "#and Return X_tsne (np.ndarray (adata.obs, dtype float)) \n",
    "#– tSNE coordinates of data.\n",
    "\n",
    "sc.tl.tsne(adata, random_state=2, n_pcs=10)\n",
    "adata.write(results_file)"
   ]
  },
  {
   "cell_type": "code",
   "execution_count": null,
   "metadata": {
    "ExecuteTime": {
     "end_time": "2018-09-01T07:14:16.842175Z",
     "start_time": "2018-09-01T07:14:04.434977Z"
    },
    "cell_style": "split",
    "code_folding": [
     0
    ],
    "hidden": true,
    "run_control": {
     "marked": false
    }
   },
   "outputs": [],
   "source": [
    "#t-distributed stochastic neighborhood embedding (tSNE) \n",
    "#for visualizating single-cell data. \n",
    "\n",
    "#n_pcs : int or None, optional (default: None); Use this many PCs. \n",
    "#If n_pcs==0 use .X if use_rep is None.\n",
    "\n",
    "#use_rep : {None, ‘X’} or any key for .obsm, optional (default: None)\n",
    "#Use the indicated representation. \n",
    "#If None, the representation is chosen automatically: for .n_vars < 50, \n",
    "#.X is used, otherwise ‘X_pca’ is used. If ‘X_pca’ is not present, \n",
    "#it’s computed with default parameters.\n",
    "\n",
    "#perplexity : float, optional (default: 30)\n",
    "#The perplexity is related to the number of nearest neighbors that is used \n",
    "#in other manifold learning algorithms. \n",
    "#Larger datasets usually require a larger perplexity. \n",
    "#Consider selecting a value between 5 and 50. The choice is not extremely critical \n",
    "#since t-SNE is quite insensitive to this parameter.\n",
    "\n",
    "#early_exaggeration : float, optional (default: 12.0)\n",
    "#Controls how tight natural clusters in the original space are in the embedded space \n",
    "#and how much space will be between them. \n",
    "#For larger values, the space between natural clusters will be larger in the embedded space. \n",
    "#Again, the choice of this parameter is not very critical. \n",
    "#If the cost function increases during initial optimization, \n",
    "#the early exaggeration factor or the learning rate might be too high.\n",
    "\n",
    "#learning_rate : float, optional (default: 1000)\n",
    "#Note that the R-package “Rtsne” uses a default of 200. \n",
    "#The learning rate can be a critical parameter. \n",
    "#It should be between 100 and 1000. \n",
    "#If the cost function increases during initial optimization, \n",
    "#the early exaggeration factor or the learning rate might be too high. \n",
    "#If the cost function gets stuck in a bad local minimum increasing the learning \n",
    "#rate helps sometimes.\n",
    "\n",
    "#random_state : int or None, optional (default: 0)\n",
    "#Change this to use different intial states for the optimization. \n",
    "#If None, the initial state is not reproducible.\n",
    "\n",
    "#use_fast_tsne : bool, optional (default: True)\n",
    "#Use the MulticoreTSNE package by D. Ulyanov if it is installed.\n",
    "\n",
    "#n_jobs : int or None (default: sc.settings.n_jobs)\n",
    "#Number of jobs.\n",
    "\n",
    "#copy : bool (default: False)\n",
    "#Return a copy instead of writing to adata.\n",
    "#and Return X_tsne (np.ndarray (adata.obs, dtype float)) \n",
    "#– tSNE coordinates of data.\n",
    "\n",
    "sc.tl.tsne(adata2, random_state=2, n_pcs=10)\n",
    "adata2.write(results_file2)"
   ]
  },
  {
   "cell_type": "code",
   "execution_count": null,
   "metadata": {
    "cell_style": "split",
    "hidden": true,
    "run_control": {
     "marked": false
    }
   },
   "outputs": [],
   "source": [
    "print(adata.obsm['X_tsne'].shape)\n",
    "adata.obsm['X_tsne']"
   ]
  },
  {
   "cell_type": "code",
   "execution_count": null,
   "metadata": {
    "cell_style": "split",
    "hidden": true,
    "run_control": {
     "marked": false
    }
   },
   "outputs": [],
   "source": [
    "print(adata2.obsm['X_tsne'].shape)\n",
    "adata2.obsm['X_tsne']"
   ]
  },
  {
   "cell_type": "markdown",
   "metadata": {
    "hidden": true
   },
   "source": [
    "---------------------------"
   ]
  },
  {
   "cell_type": "code",
   "execution_count": null,
   "metadata": {
    "ExecuteTime": {
     "end_time": "2018-08-31T10:22:55.926332Z",
     "start_time": "2018-08-31T10:22:54.834237Z"
    },
    "cell_style": "split",
    "hidden": true,
    "run_control": {
     "marked": false
    }
   },
   "outputs": [],
   "source": [
    "sc.pl.tsne(adata, color=['CST3','NKG7', 'PPBP', 'CD79A']) #, use_raw=True"
   ]
  },
  {
   "cell_type": "code",
   "execution_count": null,
   "metadata": {
    "ExecuteTime": {
     "end_time": "2018-09-01T07:14:17.965905Z",
     "start_time": "2018-09-01T07:14:16.844969Z"
    },
    "cell_style": "split",
    "hidden": true,
    "run_control": {
     "marked": false
    }
   },
   "outputs": [],
   "source": [
    "sc.pl.tsne(adata2, color=['CST3','CD79A', 'MS4A1','MS4A7']) #, use_raw=True"
   ]
  },
  {
   "cell_type": "markdown",
   "metadata": {
    "hidden": true
   },
   "source": [
    "---------------------------"
   ]
  },
  {
   "cell_type": "code",
   "execution_count": null,
   "metadata": {
    "cell_style": "split",
    "hidden": true,
    "run_control": {
     "marked": false
    }
   },
   "outputs": [],
   "source": [
    "sc.pl.tsne(adata, color=['CST3','NKG7', 'PPBP', 'CD79A'], show=True, use_raw=False)"
   ]
  },
  {
   "cell_type": "code",
   "execution_count": null,
   "metadata": {
    "cell_style": "split",
    "hidden": true,
    "run_control": {
     "marked": false
    }
   },
   "outputs": [],
   "source": [
    "sc.pl.tsne(adata2, color=['CST3','CD79A', 'MS4A1','MS4A7'], use_raw=False)"
   ]
  },
  {
   "cell_type": "markdown",
   "metadata": {
    "hidden": true,
    "run_control": {
     "marked": false
    }
   },
   "source": [
    "As we set the `.raw` attribute of AnnData (a \"frozen\" state of the object at a point in the pipeline where we deemed the data \"raw\"), the previous plots showed the raw gene expression."
   ]
  },
  {
   "cell_type": "markdown",
   "metadata": {
    "run_control": {
     "marked": false
    }
   },
   "source": [
    "## Computing the Neighborhood Graph"
   ]
  },
  {
   "cell_type": "markdown",
   "metadata": {
    "heading_collapsed": true
   },
   "source": [
    "### Visualizing Neighborhood Graph Using UMAP"
   ]
  },
  {
   "cell_type": "markdown",
   "metadata": {
    "hidden": true
   },
   "source": [
    "> \"(Uniform Manifold Approximation and Projection) is a manifold learning technique for dimension reduction which is suitable for visualization of high-dimensional data. It is competitive with tSNE yet, it is faster and it arguably preserves more of the global structure.\" --scanpy.api.tl.umap"
   ]
  },
  {
   "cell_type": "code",
   "execution_count": null,
   "metadata": {
    "ExecuteTime": {
     "end_time": "2018-08-31T10:22:56.220617Z",
     "start_time": "2018-08-31T10:22:55.929641Z"
    },
    "cell_style": "split",
    "hidden": true,
    "run_control": {
     "marked": false
    }
   },
   "outputs": [],
   "source": [
    "adata = sc.read(results_file)"
   ]
  },
  {
   "cell_type": "code",
   "execution_count": null,
   "metadata": {
    "ExecuteTime": {
     "end_time": "2018-09-01T07:14:18.117629Z",
     "start_time": "2018-09-01T07:14:17.968553Z"
    },
    "cell_style": "split",
    "hidden": true,
    "run_control": {
     "marked": false
    }
   },
   "outputs": [],
   "source": [
    "adata2 = sc.read(results_file2)"
   ]
  },
  {
   "cell_type": "code",
   "execution_count": null,
   "metadata": {
    "ExecuteTime": {
     "end_time": "2018-08-31T10:23:00.909574Z",
     "start_time": "2018-08-31T10:22:56.223522Z"
    },
    "cell_style": "split",
    "code_folding": [
     0
    ],
    "hidden": true,
    "run_control": {
     "marked": false
    }
   },
   "outputs": [],
   "source": [
    "#Compute a neighborhood graph of observations \n",
    "\n",
    "#n_neighbors : int\n",
    "#The size of local neighborhood (in terms of number of neighboring data points) used \n",
    "#for manifold approximation. Larger values result in more global views of the \n",
    "#manifold, while smaller values result in more local data being preserved. \n",
    "#In general values should be in the range 2 to 100. If knn is True, number of nearest \n",
    "#neighbors to be searched. If knn is False, a Gaussian kernel width is set to the \n",
    "#distance of the n_neighbors neighbor.\n",
    "\n",
    "#Return: \n",
    "#1)connectivities (sparse matrix (.uns[‘neighbors’], dtype float32)) – Weighted \n",
    "#adjacency matrix of the neighborhood graph of data points. \n",
    "#Weights should be interpreted as connectivities.\n",
    "#2)distances (sparse matrix (.uns[‘neighbors’], dtype float32)) – Instead of \n",
    "#decaying weights, this stores distances for each pair of neighbors.\n",
    "sc.pp.neighbors(adata, n_neighbors=10)"
   ]
  },
  {
   "cell_type": "code",
   "execution_count": null,
   "metadata": {
    "ExecuteTime": {
     "end_time": "2018-09-01T07:14:21.846391Z",
     "start_time": "2018-09-01T07:14:18.120297Z"
    },
    "cell_style": "split",
    "code_folding": [
     0
    ],
    "hidden": true,
    "run_control": {
     "marked": false
    }
   },
   "outputs": [],
   "source": [
    "#Compute a neighborhood graph of observations \n",
    "\n",
    "#n_neighbors : int\n",
    "#The size of local neighborhood (in terms of number of neighboring data points) used \n",
    "#for manifold approximation. Larger values result in more global views of the \n",
    "#manifold, while smaller values result in more local data being preserved. \n",
    "#In general values should be in the range 2 to 100. If knn is True, number of nearest \n",
    "#neighbors to be searched. If knn is False, a Gaussian kernel width is set to the \n",
    "#distance of the n_neighbors neighbor.\n",
    "\n",
    "#Return: \n",
    "#1)connectivities (sparse matrix (.uns[‘neighbors’], dtype float32)) – Weighted \n",
    "#adjacency matrix of the neighborhood graph of data points. \n",
    "#Weights should be interpreted as connectivities.\n",
    "#2)distances (sparse matrix (.uns[‘neighbors’], dtype float32)) – Instead of \n",
    "#decaying weights, this stores distances for each pair of neighbors.\n",
    "sc.pp.neighbors(adata2, n_neighbors=10)"
   ]
  },
  {
   "cell_type": "markdown",
   "metadata": {
    "hidden": true,
    "run_control": {
     "marked": false
    }
   },
   "source": [
    "Get a quick visualization of the graph using UMAP. For larger data, the speedup over tSNE will be dramatic."
   ]
  },
  {
   "cell_type": "code",
   "execution_count": null,
   "metadata": {
    "ExecuteTime": {
     "end_time": "2018-08-31T10:23:06.238990Z",
     "start_time": "2018-08-31T10:23:00.913500Z"
    },
    "cell_style": "split",
    "hidden": true,
    "run_control": {
     "marked": false
    }
   },
   "outputs": [],
   "source": [
    "#Embed the neighborhood graph using UMAP\n",
    "#Return: X_umap (adata.obsm) – UMAP coordinates of data.\n",
    "sc.tl.umap(adata)"
   ]
  },
  {
   "cell_type": "code",
   "execution_count": null,
   "metadata": {
    "ExecuteTime": {
     "end_time": "2018-09-01T07:14:25.655460Z",
     "start_time": "2018-09-01T07:14:21.849873Z"
    },
    "cell_style": "split",
    "hidden": true,
    "run_control": {
     "marked": false
    }
   },
   "outputs": [],
   "source": [
    "#Embed the neighborhood graph using UMAP\n",
    "#Return: X_umap (adata.obsm) – UMAP coordinates of data.\n",
    "sc.tl.umap(adata2)"
   ]
  },
  {
   "cell_type": "code",
   "execution_count": null,
   "metadata": {
    "ExecuteTime": {
     "end_time": "2018-08-31T10:23:07.325655Z",
     "start_time": "2018-08-31T10:23:06.242628Z"
    },
    "cell_style": "split",
    "hidden": true,
    "run_control": {
     "marked": false
    }
   },
   "outputs": [],
   "source": [
    "sc.pl.umap(adata, color=['CST3','NKG7', 'PPBP', 'CD79A'])"
   ]
  },
  {
   "cell_type": "code",
   "execution_count": null,
   "metadata": {
    "ExecuteTime": {
     "end_time": "2018-09-01T07:14:26.932811Z",
     "start_time": "2018-09-01T07:14:25.658130Z"
    },
    "cell_style": "split",
    "hidden": true,
    "run_control": {
     "marked": false
    }
   },
   "outputs": [],
   "source": [
    "sc.pl.umap(adata2, color=['CST3','CD79A', 'MS4A1','MS4A7'])"
   ]
  },
  {
   "cell_type": "markdown",
   "metadata": {
    "hidden": true,
    "run_control": {
     "marked": false
    }
   },
   "source": [
    "Btw: You can also plot the scaled and corrected gene expression by explicitly stating that you don't want to use `.raw`."
   ]
  },
  {
   "cell_type": "code",
   "execution_count": null,
   "metadata": {
    "ExecuteTime": {
     "end_time": "2018-08-31T10:23:08.541585Z",
     "start_time": "2018-08-31T10:23:07.329000Z"
    },
    "cell_style": "split",
    "hidden": true,
    "run_control": {
     "marked": false
    }
   },
   "outputs": [],
   "source": [
    "sc.pl.umap(adata, color=['CST3','NKG7', 'PPBP', 'CD79A'], use_raw=False)"
   ]
  },
  {
   "cell_type": "code",
   "execution_count": null,
   "metadata": {
    "ExecuteTime": {
     "end_time": "2018-09-01T07:14:28.104486Z",
     "start_time": "2018-09-01T07:14:26.936146Z"
    },
    "cell_style": "split",
    "hidden": true,
    "run_control": {
     "marked": false
    }
   },
   "outputs": [],
   "source": [
    "sc.pl.umap(adata2, color=['CST3','CD79A', 'MS4A1','MS4A7'], use_raw=False)"
   ]
  },
  {
   "cell_type": "markdown",
   "metadata": {
    "heading_collapsed": true
   },
   "source": [
    "### Visualizing Neighborhood Graph Using T-SNE"
   ]
  },
  {
   "cell_type": "code",
   "execution_count": null,
   "metadata": {
    "ExecuteTime": {
     "end_time": "2018-08-31T10:22:56.220617Z",
     "start_time": "2018-08-31T10:22:55.929641Z"
    },
    "cell_style": "split",
    "hidden": true,
    "run_control": {
     "marked": false
    }
   },
   "outputs": [],
   "source": [
    "adata = sc.read(results_file)"
   ]
  },
  {
   "cell_type": "code",
   "execution_count": null,
   "metadata": {
    "ExecuteTime": {
     "end_time": "2018-09-01T07:14:18.117629Z",
     "start_time": "2018-09-01T07:14:17.968553Z"
    },
    "cell_style": "split",
    "hidden": true,
    "run_control": {
     "marked": false
    }
   },
   "outputs": [],
   "source": [
    "adata2 = sc.read(results_file2)"
   ]
  },
  {
   "cell_type": "code",
   "execution_count": null,
   "metadata": {
    "ExecuteTime": {
     "end_time": "2018-08-31T10:23:00.909574Z",
     "start_time": "2018-08-31T10:22:56.223522Z"
    },
    "cell_style": "split",
    "code_folding": [
     0
    ],
    "hidden": true,
    "run_control": {
     "marked": false
    }
   },
   "outputs": [],
   "source": [
    "#Compute a neighborhood graph of observations \n",
    "\n",
    "#n_neighbors : int\n",
    "#The size of local neighborhood (in terms of number of neighboring data points) used \n",
    "#for manifold approximation. Larger values result in more global views of the \n",
    "#manifold, while smaller values result in more local data being preserved. \n",
    "#In general values should be in the range 2 to 100. If knn is True, number of nearest \n",
    "#neighbors to be searched. If knn is False, a Gaussian kernel width is set to the \n",
    "#distance of the n_neighbors neighbor.\n",
    "\n",
    "#Return: \n",
    "#1)connectivities (sparse matrix (.uns[‘neighbors’], dtype float32)) – Weighted \n",
    "#adjacency matrix of the neighborhood graph of data points. \n",
    "#Weights should be interpreted as connectivities.\n",
    "#2)distances (sparse matrix (.uns[‘neighbors’], dtype float32)) – Instead of \n",
    "#decaying weights, this stores distances for each pair of neighbors.\n",
    "sc.pp.neighbors(adata, n_neighbors=10)"
   ]
  },
  {
   "cell_type": "code",
   "execution_count": null,
   "metadata": {
    "ExecuteTime": {
     "end_time": "2018-09-01T07:14:21.846391Z",
     "start_time": "2018-09-01T07:14:18.120297Z"
    },
    "cell_style": "split",
    "code_folding": [
     0
    ],
    "hidden": true,
    "run_control": {
     "marked": false
    }
   },
   "outputs": [],
   "source": [
    "#Compute a neighborhood graph of observations \n",
    "\n",
    "#n_neighbors : int\n",
    "#The size of local neighborhood (in terms of number of neighboring data points) used \n",
    "#for manifold approximation. Larger values result in more global views of the \n",
    "#manifold, while smaller values result in more local data being preserved. \n",
    "#In general values should be in the range 2 to 100. If knn is True, number of nearest \n",
    "#neighbors to be searched. If knn is False, a Gaussian kernel width is set to the \n",
    "#distance of the n_neighbors neighbor.\n",
    "\n",
    "#Return: \n",
    "#1)connectivities (sparse matrix (.uns[‘neighbors’], dtype float32)) – Weighted \n",
    "#adjacency matrix of the neighborhood graph of data points. \n",
    "#Weights should be interpreted as connectivities.\n",
    "#2)distances (sparse matrix (.uns[‘neighbors’], dtype float32)) – Instead of \n",
    "#decaying weights, this stores distances for each pair of neighbors.\n",
    "sc.pp.neighbors(adata2, n_neighbors=10)"
   ]
  },
  {
   "cell_type": "code",
   "execution_count": null,
   "metadata": {
    "cell_style": "split",
    "hidden": true
   },
   "outputs": [],
   "source": [
    "sc.tl.tsne(adata)"
   ]
  },
  {
   "cell_type": "code",
   "execution_count": null,
   "metadata": {
    "cell_style": "split",
    "hidden": true
   },
   "outputs": [],
   "source": [
    "sc.tl.tsne(adata2)"
   ]
  },
  {
   "cell_type": "code",
   "execution_count": null,
   "metadata": {
    "cell_style": "split",
    "hidden": true
   },
   "outputs": [],
   "source": [
    "sc.pl.tsne(adata, color=['CST3','NKG7', 'PF4', 'PPBP', 'CD79A'])"
   ]
  },
  {
   "cell_type": "code",
   "execution_count": null,
   "metadata": {
    "cell_style": "split",
    "hidden": true
   },
   "outputs": [],
   "source": [
    "sc.pl.tsne(adata2, color=['CST3','CD79A', 'MS4A1', 'HLA-DPB1','MS4A7'])"
   ]
  },
  {
   "cell_type": "code",
   "execution_count": null,
   "metadata": {
    "cell_style": "split",
    "hidden": true
   },
   "outputs": [],
   "source": [
    "sc.pl.tsne(adata, color=['CST3','NKG7', 'PF4', 'PPBP', 'CD79A'], use_raw=False)"
   ]
  },
  {
   "cell_type": "code",
   "execution_count": null,
   "metadata": {
    "cell_style": "split",
    "hidden": true
   },
   "outputs": [],
   "source": [
    "sc.pl.tsne(adata2, color=['CST3','CD79A', 'MS4A1', 'HLA-DPB1','MS4A7'], use_raw=False)"
   ]
  },
  {
   "cell_type": "markdown",
   "metadata": {
    "heading_collapsed": true,
    "run_control": {
     "marked": false
    }
   },
   "source": [
    "## Clustering the Neighboring Graph --from tsne & umap"
   ]
  },
  {
   "cell_type": "markdown",
   "metadata": {
    "hidden": true,
    "run_control": {
     "marked": false
    }
   },
   "source": [
    "As Seurat and many others, we use the Louvain graph-clustering method (community detection based on optimizing modularity). It has been proposed for single-cell data by [Levine *et al.* (2015)](https://doi.org/10.1016/j.cell.2015.05.04)."
   ]
  },
  {
   "cell_type": "markdown",
   "metadata": {
    "hidden": true,
    "run_control": {
     "marked": false
    }
   },
   "source": [
    "In order to run Louvain clustering, we first need to compute the neighborhood graph of cells - we already did this in the previous section."
   ]
  },
  {
   "cell_type": "code",
   "execution_count": null,
   "metadata": {
    "ExecuteTime": {
     "end_time": "2018-08-31T10:23:08.773179Z",
     "start_time": "2018-08-31T10:23:08.545169Z"
    },
    "cell_style": "split",
    "hidden": true,
    "run_control": {
     "marked": false
    }
   },
   "outputs": [],
   "source": [
    "#Cluster cells into subgroups\n",
    "#This requires to run neighbors(), first.\n",
    "\n",
    "#n_neighbors:int, optional (default: 30),\n",
    "#Number of neighbors to use for construction of knn graph.\n",
    "#n_pcs:int, optional (default: 50)\n",
    "\n",
    "#Return: louvain :pandas.Series (adata.obs, dtype category)\n",
    "#Array of dim (number of samples) that stores the subgroup id (‘0’, ‘1’, …) \n",
    "#for each cell.\n",
    "sc.tl.louvain(adata)"
   ]
  },
  {
   "cell_type": "code",
   "execution_count": null,
   "metadata": {
    "ExecuteTime": {
     "end_time": "2018-09-01T07:14:28.387111Z",
     "start_time": "2018-09-01T07:14:28.108497Z"
    },
    "cell_style": "split",
    "hidden": true,
    "run_control": {
     "marked": false
    }
   },
   "outputs": [],
   "source": [
    "#Cluster cells into subgroups\n",
    "#This requires to run neighbors(), first.\n",
    "\n",
    "#n_neighbors:int, optional (default: 30),\n",
    "#Number of neighbors to use for construction of knn graph.\n",
    "#n_pcs:int, optional (default: 50)\n",
    "\n",
    "#Return: louvain :pandas.Series (adata.obs, dtype category)\n",
    "#Array of dim (number of samples) that stores the subgroup id (‘0’, ‘1’, …) \n",
    "#for each cell.\n",
    "sc.tl.louvain(adata2)"
   ]
  },
  {
   "cell_type": "markdown",
   "metadata": {
    "hidden": true
   },
   "source": [
    "### Visualizing Clusters Using T-SNE"
   ]
  },
  {
   "cell_type": "markdown",
   "metadata": {
    "hidden": true,
    "run_control": {
     "marked": false
    }
   },
   "source": [
    "Plot the data with tSNE. Coloring according to clustering. Clusters agree quite well with the result of Seurat."
   ]
  },
  {
   "cell_type": "code",
   "execution_count": null,
   "metadata": {
    "ExecuteTime": {
     "end_time": "2018-08-31T10:23:09.237179Z",
     "start_time": "2018-08-31T10:23:08.777065Z"
    },
    "cell_style": "split",
    "hidden": true,
    "run_control": {
     "marked": false
    }
   },
   "outputs": [],
   "source": [
    "sc.pl.tsne(adata, color='louvain')\n",
    "#adata.obs[['louvain']]"
   ]
  },
  {
   "cell_type": "code",
   "execution_count": null,
   "metadata": {
    "ExecuteTime": {
     "end_time": "2018-09-01T07:14:28.413396Z",
     "start_time": "2018-09-01T07:14:28.390314Z"
    },
    "cell_style": "split",
    "hidden": true,
    "run_control": {
     "marked": false
    }
   },
   "outputs": [],
   "source": [
    "sc.pl.tsne(adata2, color='louvain')\n",
    "#adata2.obs[['louvain']]"
   ]
  },
  {
   "cell_type": "markdown",
   "metadata": {
    "hidden": true
   },
   "source": [
    "### Visualizing Clusters Using UMAP"
   ]
  },
  {
   "cell_type": "code",
   "execution_count": null,
   "metadata": {
    "ExecuteTime": {
     "end_time": "2018-08-31T10:23:09.680622Z",
     "start_time": "2018-08-31T10:23:09.245031Z"
    },
    "cell_style": "split",
    "hidden": true,
    "run_control": {
     "marked": false
    }
   },
   "outputs": [],
   "source": [
    "sc.pl.umap(adata, color='louvain')"
   ]
  },
  {
   "cell_type": "code",
   "execution_count": null,
   "metadata": {
    "ExecuteTime": {
     "end_time": "2018-09-01T07:14:28.415151Z",
     "start_time": "2018-09-01T07:13:47.643Z"
    },
    "cell_style": "split",
    "hidden": true,
    "run_control": {
     "marked": false
    }
   },
   "outputs": [],
   "source": [
    "sc.pl.umap(adata2, color='louvain')"
   ]
  },
  {
   "cell_type": "code",
   "execution_count": null,
   "metadata": {
    "ExecuteTime": {
     "end_time": "2018-08-31T10:23:10.977704Z",
     "start_time": "2018-08-31T10:23:09.683629Z"
    },
    "cell_style": "split",
    "hidden": true,
    "run_control": {
     "marked": false
    }
   },
   "outputs": [],
   "source": [
    "adata.write(results_file)"
   ]
  },
  {
   "cell_type": "code",
   "execution_count": null,
   "metadata": {
    "ExecuteTime": {
     "end_time": "2018-09-01T07:14:28.417670Z",
     "start_time": "2018-09-01T07:13:47.650Z"
    },
    "cell_style": "split",
    "hidden": true,
    "run_control": {
     "marked": false
    }
   },
   "outputs": [],
   "source": [
    "adata2.write(results_file2)"
   ]
  },
  {
   "cell_type": "markdown",
   "metadata": {
    "heading_collapsed": true,
    "run_control": {
     "marked": false
    }
   },
   "source": [
    "## Finding marker genes"
   ]
  },
  {
   "cell_type": "markdown",
   "metadata": {
    "hidden": true,
    "run_control": {
     "marked": false
    }
   },
   "source": [
    "Let us compute a ranking for <B>the highly differential genes in each cluster</B>. Here, we simply rank genes with a <B>t-test</B>, which agrees quite well with Seurat.\n",
    "\n",
    "For this, by default, the `.raw` attribute of AnnData is used in case it has been initialized before."
   ]
  },
  {
   "cell_type": "code",
   "execution_count": null,
   "metadata": {
    "ExecuteTime": {
     "end_time": "2018-08-31T10:23:18.552055Z",
     "start_time": "2018-08-31T10:23:10.980161Z"
    },
    "cell_style": "split",
    "hidden": true,
    "run_control": {
     "marked": false
    }
   },
   "outputs": [],
   "source": [
    "adata = sc.read(results_file)\n",
    "\n",
    "#Rank genes for characterizing groups\n",
    "#groupby : str; The key of the observations grouping to consider.\n",
    "#method : {'logreg', 't-test', 'wilcoxon', 't-test_overestim_var'}, optional (default: 't-test_overestim_var')\n",
    "#Return:\n",
    "#Updates adata with the following fields.\n",
    "#names (structured np.ndarray (.uns[‘rank_genes_groups’])) – Structured array to be indexed by group id storing \n",
    "#the gene names. Ordered according to scores.\n",
    "#scores (structured np.ndarray (.uns[‘rank_genes_groups’])) – Structured array to be indexed by group id storing \n",
    "#the score for each gene for each group. Ordered according to scores.\n",
    "sc.tl.rank_genes_groups(adata, 'louvain')\n",
    "\n",
    "#Plot ranking of genes for all tested comparisons\n",
    "#n_genes : int, optional (default: 20); Number of genes to show. Is ignored if gene_names is passed.\n",
    "sc.pl.rank_genes_groups(adata, n_genes=20, save='.pdf')\n",
    "adata.write(results_file)"
   ]
  },
  {
   "cell_type": "code",
   "execution_count": null,
   "metadata": {
    "ExecuteTime": {
     "end_time": "2018-09-01T07:14:28.419664Z",
     "start_time": "2018-09-01T07:13:47.947Z"
    },
    "cell_style": "split",
    "hidden": true,
    "run_control": {
     "marked": false
    }
   },
   "outputs": [],
   "source": [
    "adata2 = sc.read(results_file2)\n",
    "\n",
    "#Rank genes for characterizing groups\n",
    "#groupby : str; The key of the observations grouping to consider.\n",
    "#method : {'logreg', 't-test', 'wilcoxon', 't-test_overestim_var'}, optional (default: 't-test_overestim_var')\n",
    "#Return:\n",
    "#Updates adata with the following fields.\n",
    "#names (structured np.ndarray (.uns[‘rank_genes_groups’])) – Structured array to be indexed by group id storing \n",
    "#the gene names. Ordered according to scores.\n",
    "#scores (structured np.ndarray (.uns[‘rank_genes_groups’])) – Structured array to be indexed by group id storing \n",
    "#the score for each gene for each group. Ordered according to scores.\n",
    "sc.tl.rank_genes_groups(adata2, 'louvain')\n",
    "\n",
    "#Plot ranking of genes for all tested comparisons\n",
    "#n_genes : int, optional (default: 20); Number of genes to show. Is ignored if gene_names is passed.\n",
    "sc.pl.rank_genes_groups(adata2, n_genes=20, save='.pdf')\n",
    "adata2.write(results_file2)"
   ]
  },
  {
   "cell_type": "code",
   "execution_count": null,
   "metadata": {
    "ExecuteTime": {
     "end_time": "2018-09-01T07:14:28.422138Z",
     "start_time": "2018-09-01T07:13:47.953Z"
    },
    "hidden": true,
    "run_control": {
     "marked": false
    }
   },
   "outputs": [],
   "source": [
    "sc.settings.verbosity = 2  # reduce the verbosity to no longer see hints"
   ]
  },
  {
   "cell_type": "markdown",
   "metadata": {
    "hidden": true,
    "run_control": {
     "marked": false
    }
   },
   "source": [
    "Here, we rank genes using logistic regression. For instance, this has been suggested by [Natranos *et al.* (2018)](https://doi.org/10.1101/258566). We think that this works very well. Here, it recovers known marker genes at higer rankings than using a t-test or Wilcoxon rank sum test."
   ]
  },
  {
   "cell_type": "code",
   "execution_count": null,
   "metadata": {
    "ExecuteTime": {
     "end_time": "2018-08-31T10:23:26.038473Z",
     "start_time": "2018-08-31T10:23:18.564340Z"
    },
    "cell_style": "split",
    "hidden": true,
    "run_control": {
     "marked": false
    }
   },
   "outputs": [],
   "source": [
    "#method : {'logreg', 't-test', 'wilcoxon', 't-test_overestim_var'}, optional (default: 't-test_overestim_var')\n",
    "sc.tl.rank_genes_groups(adata, 'louvain', method='logreg')\n",
    "sc.pl.rank_genes_groups(adata, n_genes=20)"
   ]
  },
  {
   "cell_type": "code",
   "execution_count": null,
   "metadata": {
    "ExecuteTime": {
     "end_time": "2018-09-01T07:14:28.425089Z",
     "start_time": "2018-09-01T07:13:48.147Z"
    },
    "cell_style": "split",
    "hidden": true,
    "run_control": {
     "marked": false
    }
   },
   "outputs": [],
   "source": [
    "#method : {'logreg', 't-test', 'wilcoxon', 't-test_overestim_var'}, optional (default: 't-test_overestim_var')\n",
    "sc.tl.rank_genes_groups(adata2, 'louvain', method='logreg')\n",
    "sc.pl.rank_genes_groups(adata2, n_genes=20)"
   ]
  },
  {
   "cell_type": "markdown",
   "metadata": {
    "hidden": true
   },
   "source": [
    "---------------------------"
   ]
  },
  {
   "cell_type": "markdown",
   "metadata": {
    "cell_style": "split",
    "hidden": true,
    "run_control": {
     "marked": false
    }
   },
   "source": [
    "With the exception of IL7R, which is only found by the t-test at rank 14, all marker genes are recovered.\n",
    "\n",
    "Louvain Group | Markers | Cell Type\n",
    "---|---|---\n",
    "0 | IL7R | CD4 T cells\n",
    "1 | CD14, LYZ | CD14+ Monocytes\n",
    "2 | MS4A1 |\tB cells\n",
    "3 |\tCD8A |\tCD8 T cells\n",
    "4 |\tGNLY, NKG7 | \tNK cells\n",
    "5 |\tFCGR3A, MS4A7 |\tFCGR3A+ Monocytes\n",
    "6 |\tFCER1A, CST3 |\tDendritic Cells\n",
    "7 |\tPPBP |\tMegakaryocytes"
   ]
  },
  {
   "cell_type": "markdown",
   "metadata": {
    "cell_style": "split",
    "hidden": true,
    "run_control": {
     "marked": false
    }
   },
   "source": [
    "\n",
    "Louvain Group | Markers | Cell Type\n",
    "---|---|---\n",
    "0 | CD3E | CD3 T cells\n",
    "1 | IL7R | CD4 T cells\n",
    "2 | NKG7,GNLY,GZMB | Erythroblasts (mixture of natural killer cells and CD8+ T cells)\n",
    "3 |\tNKG7, CD3D | NK cells ?? CD3 T cells\n",
    "4 |\tCD79A, CD79B, MS4A1 | B cells\n",
    "5 |\tLYZ, CD14 |\tCD14+CD16 Monocytes\n",
    "6 |\tCD8B, CD8A | CD8 T cells\n",
    "7 |\tFCGR3A, MS4A7 |\tFCGR3A+ Monocytes\n",
    "8 |\tGNLY,NKG7 |\tNK cells\n",
    "9 |\tFCER1A, CST3 | Dendritic cells"
   ]
  },
  {
   "cell_type": "markdown",
   "metadata": {
    "hidden": true,
    "run_control": {
     "marked": false
    }
   },
   "source": [
    "Show the 10 top ranked genes per cluster 0, 1, ..., 7 in a dataframe."
   ]
  },
  {
   "cell_type": "code",
   "execution_count": null,
   "metadata": {
    "ExecuteTime": {
     "end_time": "2018-08-31T10:23:26.067983Z",
     "start_time": "2018-08-31T10:23:26.041652Z"
    },
    "cell_style": "split",
    "hidden": true,
    "run_control": {
     "marked": false
    }
   },
   "outputs": [],
   "source": [
    "pd.DataFrame(adata.uns['rank_genes_groups']['names']).head(10)"
   ]
  },
  {
   "cell_type": "code",
   "execution_count": null,
   "metadata": {
    "ExecuteTime": {
     "end_time": "2018-09-01T07:14:28.427326Z",
     "start_time": "2018-09-01T07:13:48.519Z"
    },
    "cell_style": "split",
    "hidden": true,
    "run_control": {
     "marked": false
    }
   },
   "outputs": [],
   "source": [
    "#To find where in the DataFrame a spceific gene, uncomment the next line and change as needed!\n",
    "#np.where(pd.DataFrame(adata2.uns['rank_genes_groups']['names']) == 'MALAT1')\n",
    "pd.DataFrame(adata2.uns['rank_genes_groups']['names']).head(10)"
   ]
  },
  {
   "cell_type": "markdown",
   "metadata": {
    "hidden": true
   },
   "source": [
    "<B><font color=red>---------------------------------------- For testing purposes! Don't run! ------------------------------------------</font></B>\n",
    "<br/>If you would like to look up a gene in the dataframe above, run the following:"
   ]
  },
  {
   "cell_type": "code",
   "execution_count": null,
   "metadata": {
    "cell_style": "split",
    "hidden": true
   },
   "outputs": [],
   "source": [
    "g='CD3D'\n",
    "#-------------------------------------------\n",
    "test_df=pd.DataFrame()\n",
    "test_df.insert(loc=0, column='Rank', value=list(np.where(pd.DataFrame(adata.uns['rank_genes_groups']['names']) == g)[0]), allow_duplicates=True)\n",
    "test_df.insert(loc=1, column='Cluster#', value=list(np.where(pd.DataFrame(adata.uns['rank_genes_groups']['names']) == g)[1]), allow_duplicates=True)\n",
    "test_df"
   ]
  },
  {
   "cell_type": "code",
   "execution_count": null,
   "metadata": {
    "cell_style": "split",
    "hidden": true
   },
   "outputs": [],
   "source": [
    "g2='CST3'\n",
    "#-------------------------------------------\n",
    "test2_df=pd.DataFrame()\n",
    "test2_df.insert(loc=0, column='Rank', value=list(np.where(pd.DataFrame(adata2.uns['rank_genes_groups']['names']) == g2)[0]), allow_duplicates=True)\n",
    "test2_df.insert(loc=1, column='Cluster#', value=list(np.where(pd.DataFrame(adata2.uns['rank_genes_groups']['names']) == g2)[1]), allow_duplicates=True)\n",
    "test2_df"
   ]
  },
  {
   "cell_type": "markdown",
   "metadata": {
    "hidden": true
   },
   "source": [
    "<B><font color=red>-----------------------------------------------------------------------------------------------------------------------------</font></B>"
   ]
  },
  {
   "cell_type": "markdown",
   "metadata": {
    "hidden": true,
    "run_control": {
     "marked": false
    }
   },
   "source": [
    "Get a table with scores and groups."
   ]
  },
  {
   "cell_type": "code",
   "execution_count": null,
   "metadata": {
    "ExecuteTime": {
     "end_time": "2018-08-31T10:23:26.099041Z",
     "start_time": "2018-08-31T10:23:26.071080Z"
    },
    "cell_style": "split",
    "hidden": true,
    "run_control": {
     "marked": false
    },
    "scrolled": false
   },
   "outputs": [],
   "source": [
    "result = adata.uns['rank_genes_groups']\n",
    "groups = result['names'].dtype.names\n",
    "pd.DataFrame({group + '_' + key[:1]: result[key][group]\n",
    "    for group in groups for key in ['names', 'scores']}).head(10)"
   ]
  },
  {
   "cell_type": "code",
   "execution_count": null,
   "metadata": {
    "ExecuteTime": {
     "end_time": "2018-09-01T07:14:28.429673Z",
     "start_time": "2018-09-01T07:13:48.670Z"
    },
    "cell_style": "split",
    "format": "row",
    "hidden": true,
    "run_control": {
     "marked": false
    }
   },
   "outputs": [],
   "source": [
    "result2 = adata2.uns['rank_genes_groups']\n",
    "groups2 = result2['names'].dtype.names\n",
    "pd.DataFrame({group + '_' + key[:1]: result2[key][group]\n",
    "    for group in groups2 for key in ['names', 'scores']}).head(10)"
   ]
  },
  {
   "cell_type": "markdown",
   "metadata": {
    "hidden": true,
    "run_control": {
     "marked": false
    }
   },
   "source": [
    "Compare to a single cluster. "
   ]
  },
  {
   "cell_type": "code",
   "execution_count": null,
   "metadata": {
    "ExecuteTime": {
     "end_time": "2018-08-31T10:23:27.057746Z",
     "start_time": "2018-08-31T10:23:26.102684Z"
    },
    "cell_style": "split",
    "hidden": true,
    "run_control": {
     "marked": false
    }
   },
   "outputs": [],
   "source": [
    "adata = sc.read(results_file)\n",
    "sc.tl.rank_genes_groups(adata, 'louvain', groups=['0'], reference='1')\n",
    "sc.pl.rank_genes_groups(adata, groups=['0'], n_genes=20)"
   ]
  },
  {
   "cell_type": "code",
   "execution_count": null,
   "metadata": {
    "ExecuteTime": {
     "end_time": "2018-09-01T07:14:28.431932Z",
     "start_time": "2018-09-01T07:13:48.822Z"
    },
    "cell_style": "split",
    "hidden": true,
    "run_control": {
     "marked": false
    }
   },
   "outputs": [],
   "source": [
    "adata2 = sc.read(results_file2)\n",
    "sc.tl.rank_genes_groups(adata2, 'louvain', groups=['0'], reference='1')\n",
    "sc.pl.rank_genes_groups(adata2, groups=['0'], n_genes=20)"
   ]
  },
  {
   "cell_type": "markdown",
   "metadata": {
    "hidden": true,
    "run_control": {
     "marked": false
    }
   },
   "source": [
    "If we want a more detailed view for a certain group, use sc.pl.rank_genes_groups_violin."
   ]
  },
  {
   "cell_type": "code",
   "execution_count": null,
   "metadata": {
    "ExecuteTime": {
     "end_time": "2018-08-31T10:23:28.056418Z",
     "start_time": "2018-08-31T10:23:27.063243Z"
    },
    "cell_style": "split",
    "hidden": true,
    "run_control": {
     "marked": false
    }
   },
   "outputs": [],
   "source": [
    "#Plot ranking of genes for all tested comparisons.\n",
    "#groups : list of str, optional (default: None); List of group names.\n",
    "#n_genes : int, optional (default: 20); Number of genes to show. Is ignored if gene_names is passed.\n",
    "sc.pl.rank_genes_groups_violin(adata, groups='0', n_genes=8)"
   ]
  },
  {
   "cell_type": "code",
   "execution_count": null,
   "metadata": {
    "ExecuteTime": {
     "end_time": "2018-09-01T07:14:28.434737Z",
     "start_time": "2018-09-01T07:13:48.983Z"
    },
    "cell_style": "split",
    "hidden": true,
    "run_control": {
     "marked": false
    }
   },
   "outputs": [],
   "source": [
    "#Plot ranking of genes for all tested comparisons.\n",
    "#groups : list of str, optional (default: None); List of group names.\n",
    "#n_genes : int, optional (default: 20); Number of genes to show. Is ignored if gene_names is passed.\n",
    "sc.pl.rank_genes_groups_violin(adata2, groups='0', n_genes=8)"
   ]
  },
  {
   "cell_type": "markdown",
   "metadata": {
    "hidden": true,
    "run_control": {
     "marked": false
    }
   },
   "source": [
    "Reread the examples that were computed by comparing to the rest of the groups."
   ]
  },
  {
   "cell_type": "code",
   "execution_count": null,
   "metadata": {
    "ExecuteTime": {
     "end_time": "2018-08-31T10:23:29.485182Z",
     "start_time": "2018-08-31T10:23:28.058784Z"
    },
    "cell_style": "split",
    "hidden": true,
    "run_control": {
     "marked": false
    },
    "scrolled": false
   },
   "outputs": [],
   "source": [
    "adata = sc.read(results_file)\n",
    "sc.pl.rank_genes_groups_violin(adata, groups='0', n_genes=8)"
   ]
  },
  {
   "cell_type": "code",
   "execution_count": null,
   "metadata": {
    "ExecuteTime": {
     "end_time": "2018-09-01T07:14:28.436566Z",
     "start_time": "2018-09-01T07:13:49.144Z"
    },
    "cell_style": "split",
    "hidden": true,
    "run_control": {
     "marked": false
    },
    "scrolled": false
   },
   "outputs": [],
   "source": [
    "adata2 = sc.read(results_file2)\n",
    "sc.pl.rank_genes_groups_violin(adata2, groups='0', n_genes=8)"
   ]
  },
  {
   "cell_type": "markdown",
   "metadata": {
    "hidden": true,
    "run_control": {
     "marked": false
    }
   },
   "source": [
    "If you want to compare a certain gene across groups, use the following."
   ]
  },
  {
   "cell_type": "code",
   "execution_count": null,
   "metadata": {
    "ExecuteTime": {
     "end_time": "2018-08-31T10:23:30.771097Z",
     "start_time": "2018-08-31T10:23:29.487825Z"
    },
    "cell_style": "split",
    "hidden": true,
    "run_control": {
     "marked": false
    }
   },
   "outputs": [],
   "source": [
    "sc.pl.violin(adata, ['CST3', 'NKG7', 'PPBP', 'CD79A'], groupby='louvain')"
   ]
  },
  {
   "cell_type": "code",
   "execution_count": null,
   "metadata": {
    "ExecuteTime": {
     "end_time": "2018-09-01T07:14:28.439402Z",
     "start_time": "2018-09-01T07:13:49.308Z"
    },
    "cell_style": "split",
    "hidden": true,
    "run_control": {
     "marked": false
    }
   },
   "outputs": [],
   "source": [
    "sc.pl.violin(adata2, ['CST3','CD79A', 'MS4A1', 'MS4A7'], groupby='louvain')"
   ]
  },
  {
   "cell_type": "markdown",
   "metadata": {
    "hidden": true,
    "run_control": {
     "marked": false
    }
   },
   "source": [
    "Actually mark the cell types."
   ]
  },
  {
   "cell_type": "code",
   "execution_count": null,
   "metadata": {
    "ExecuteTime": {
     "end_time": "2018-08-31T10:23:30.785681Z",
     "start_time": "2018-08-31T10:23:30.774371Z"
    },
    "cell_style": "split",
    "hidden": true,
    "run_control": {
     "marked": false
    }
   },
   "outputs": [],
   "source": [
    "new_cluster_names = [\n",
    "    'CD4 T cells', 'CD14+ Monocytes',\n",
    "    'B cells', 'CD8 T cells', \n",
    "    'NK cells', 'FCGR3A+ Monocytes',\n",
    "    'Dendritic cells', 'Megakaryocytes']\n",
    "adata.rename_categories('louvain', new_cluster_names)"
   ]
  },
  {
   "cell_type": "code",
   "execution_count": null,
   "metadata": {
    "ExecuteTime": {
     "end_time": "2018-09-01T07:14:28.442233Z",
     "start_time": "2018-09-01T07:13:49.477Z"
    },
    "cell_style": "split",
    "hidden": true,
    "run_control": {
     "marked": false
    }
   },
   "outputs": [],
   "source": [
    "new_cluster_names2 = [\n",
    "    'CD3 T cells', 'CD4 T cells', \n",
    "    'Erythroblasts', 'NK cells ?? CD3 T cells', \n",
    "    'B cells', 'CD14+CD16 Monocytes', \n",
    "    'CD8 T cells', 'FCGR3A+ Monocytes', \n",
    "    'NK cells', 'Dendritic cells']\n",
    "adata2.rename_categories('louvain', new_cluster_names2)"
   ]
  },
  {
   "cell_type": "code",
   "execution_count": null,
   "metadata": {
    "hidden": true,
    "scrolled": true
   },
   "outputs": [],
   "source": [
    "adata.uns['rank_genes_groups']['names'].dtype\n"
   ]
  },
  {
   "cell_type": "code",
   "execution_count": null,
   "metadata": {
    "ExecuteTime": {
     "end_time": "2018-08-31T10:23:31.664257Z",
     "start_time": "2018-08-31T10:23:30.789936Z"
    },
    "cell_style": "split",
    "hidden": true,
    "run_control": {
     "marked": false
    }
   },
   "outputs": [],
   "source": [
    "sc.pl.tsne(adata, color='louvain', legend_loc='on data', save='.pdf')"
   ]
  },
  {
   "cell_type": "code",
   "execution_count": null,
   "metadata": {
    "ExecuteTime": {
     "end_time": "2018-09-01T07:14:28.444228Z",
     "start_time": "2018-09-01T07:13:49.484Z"
    },
    "cell_style": "split",
    "hidden": true,
    "run_control": {
     "marked": false
    }
   },
   "outputs": [],
   "source": [
    "sc.pl.tsne(adata2, color='louvain', legend_loc='on data', save='.pdf')"
   ]
  },
  {
   "cell_type": "code",
   "execution_count": null,
   "metadata": {
    "ExecuteTime": {
     "end_time": "2018-08-31T10:23:35.385280Z",
     "start_time": "2018-08-31T10:23:31.672348Z"
    },
    "cell_style": "split",
    "hidden": true,
    "run_control": {
     "marked": false
    }
   },
   "outputs": [],
   "source": [
    "sc.pl.violin(adata, ['CST3', 'NKG7', 'PPBP'], groupby='louvain', rotation=90, save='.pdf')"
   ]
  },
  {
   "cell_type": "code",
   "execution_count": null,
   "metadata": {
    "ExecuteTime": {
     "end_time": "2018-09-01T07:14:28.446646Z",
     "start_time": "2018-09-01T07:13:49.489Z"
    },
    "cell_style": "split",
    "hidden": true,
    "run_control": {
     "marked": false
    }
   },
   "outputs": [],
   "source": [
    "sc.pl.violin(adata2, ['CST3', 'NKG7', 'PPBP'], groupby='louvain', rotation=90, save='.pdf')"
   ]
  },
  {
   "cell_type": "code",
   "execution_count": null,
   "metadata": {
    "ExecuteTime": {
     "end_time": "2018-08-31T10:23:38.176706Z",
     "start_time": "2018-08-31T10:23:35.388248Z"
    },
    "cell_style": "split",
    "hidden": true,
    "run_control": {
     "marked": false
    }
   },
   "outputs": [],
   "source": [
    "sc.pl.rank_genes_groups(adata, n_genes=20)"
   ]
  },
  {
   "cell_type": "code",
   "execution_count": null,
   "metadata": {
    "ExecuteTime": {
     "end_time": "2018-09-01T07:14:28.448895Z",
     "start_time": "2018-09-01T07:13:49.495Z"
    },
    "cell_style": "split",
    "hidden": true,
    "run_control": {
     "marked": false
    }
   },
   "outputs": [],
   "source": [
    "sc.pl.rank_genes_groups(adata2, n_genes=20)"
   ]
  },
  {
   "cell_type": "markdown",
   "metadata": {
    "hidden": true,
    "run_control": {
     "marked": false
    }
   },
   "source": [
    "Our AnnData now accumlated the following annotations."
   ]
  },
  {
   "cell_type": "code",
   "execution_count": null,
   "metadata": {
    "ExecuteTime": {
     "end_time": "2018-08-31T10:23:38.183802Z",
     "start_time": "2018-08-31T10:23:38.179031Z"
    },
    "cell_style": "split",
    "hidden": true,
    "run_control": {
     "marked": false
    }
   },
   "outputs": [],
   "source": [
    "adata"
   ]
  },
  {
   "cell_type": "code",
   "execution_count": null,
   "metadata": {
    "ExecuteTime": {
     "end_time": "2018-09-01T07:14:28.452285Z",
     "start_time": "2018-09-01T07:13:49.678Z"
    },
    "cell_style": "split",
    "hidden": true,
    "run_control": {
     "marked": false
    }
   },
   "outputs": [],
   "source": [
    "adata2"
   ]
  },
  {
   "cell_type": "code",
   "execution_count": null,
   "metadata": {
    "ExecuteTime": {
     "end_time": "2018-08-31T10:23:39.551889Z",
     "start_time": "2018-08-31T10:23:38.188936Z"
    },
    "cell_style": "split",
    "hidden": true,
    "run_control": {
     "marked": false
    }
   },
   "outputs": [],
   "source": [
    "adata.write(results_file)"
   ]
  },
  {
   "cell_type": "code",
   "execution_count": null,
   "metadata": {
    "ExecuteTime": {
     "end_time": "2018-09-01T07:14:28.454372Z",
     "start_time": "2018-09-01T07:13:49.685Z"
    },
    "cell_style": "split",
    "hidden": true,
    "run_control": {
     "marked": false
    }
   },
   "outputs": [],
   "source": [
    "adata2.write(results_file2)"
   ]
  },
  {
   "cell_type": "markdown",
   "metadata": {
    "hidden": true,
    "run_control": {
     "marked": false
    }
   },
   "source": [
    "Get a rough overview of the file using `h5ls`, which has many options - for more details see [here](https://github.com/theislab/scanpy_usage/blob/master/170505_seurat/info_h5ad.md). The file format might still be subject to further optimization in the future. All reading functions will remain backwards-compatible, though."
   ]
  },
  {
   "cell_type": "code",
   "execution_count": null,
   "metadata": {
    "ExecuteTime": {
     "end_time": "2018-08-31T10:23:39.720056Z",
     "start_time": "2018-08-31T10:23:39.555195Z"
    },
    "cell_style": "split",
    "hidden": true,
    "run_control": {
     "marked": false
    }
   },
   "outputs": [],
   "source": [
    "!h5ls './write/pmbc3k.h5ad'"
   ]
  },
  {
   "cell_type": "code",
   "execution_count": null,
   "metadata": {
    "ExecuteTime": {
     "end_time": "2018-09-01T07:14:28.456391Z",
     "start_time": "2018-09-01T07:13:49.898Z"
    },
    "cell_style": "split",
    "hidden": true,
    "run_control": {
     "marked": false
    }
   },
   "outputs": [],
   "source": [
    "!h5ls './write/pmbc3k2.h5ad'"
   ]
  },
  {
   "cell_type": "markdown",
   "metadata": {
    "hidden": true,
    "run_control": {
     "marked": false
    }
   },
   "source": [
    "If you want to share this file with people who merely want to use it for visualization, a simple way to reduce the file size is by removing the dense scaled and corrected data matrix."
   ]
  },
  {
   "cell_type": "code",
   "execution_count": null,
   "metadata": {
    "ExecuteTime": {
     "end_time": "2018-08-31T10:23:40.301945Z",
     "start_time": "2018-08-31T10:23:39.725662Z"
    },
    "cell_style": "split",
    "hidden": true,
    "run_control": {
     "marked": false
    }
   },
   "outputs": [],
   "source": [
    "adata.X = None\n",
    "adata.write('./write/pmbc3k_withoutX.h5ad')"
   ]
  },
  {
   "cell_type": "code",
   "execution_count": null,
   "metadata": {
    "ExecuteTime": {
     "end_time": "2018-09-01T07:14:28.459798Z",
     "start_time": "2018-09-01T07:13:50.092Z"
    },
    "cell_style": "split",
    "hidden": true,
    "run_control": {
     "marked": false
    }
   },
   "outputs": [],
   "source": [
    "adata2.X = None\n",
    "adata2.write('./write/pmbc3k_withoutX2.h5ad')"
   ]
  },
  {
   "cell_type": "markdown",
   "metadata": {
    "hidden": true,
    "run_control": {
     "marked": false
    }
   },
   "source": [
    "If you want to export to \"csv\", you have the following options:"
   ]
  },
  {
   "cell_type": "code",
   "execution_count": null,
   "metadata": {
    "ExecuteTime": {
     "end_time": "2018-09-01T07:14:28.461507Z",
     "start_time": "2018-09-01T07:13:50.288Z"
    },
    "cell_style": "split",
    "hidden": true,
    "run_control": {
     "marked": false
    }
   },
   "outputs": [],
   "source": [
    "# Export single fields of the annotation of observations\n",
    "# adata.obs[['n_counts', 'louvain_groups']].to_csv(\n",
    "#     './write/pbmc3k_corrected_louvain_groups.csv')\n",
    "\n",
    "# Export single columns of the multidimensional annotation\n",
    "# adata.obsm.to_df()[['X_pca1', 'X_pca2']].to_csv(\n",
    "#     './write/pbmc3k_corrected_X_pca.csv')\n",
    "\n",
    "# Or export everything except the data using `.write_csvs`.\n",
    "# Set `skip_data=False` if you also want to export the data.\n",
    "# adata.write_csvs(results_file[:-5], )"
   ]
  },
  {
   "cell_type": "code",
   "execution_count": null,
   "metadata": {
    "ExecuteTime": {
     "end_time": "2018-08-31T10:23:40.309466Z",
     "start_time": "2018-08-31T10:23:40.304598Z"
    },
    "cell_style": "split",
    "hidden": true,
    "run_control": {
     "marked": false
    }
   },
   "outputs": [],
   "source": [
    "# Export single fields of the annotation of observations\n",
    "# adata2.obs[['n_counts', 'louvain_groups']].to_csv(\n",
    "#     './write/pbmc3k_corrected_louvain_groups.csv')\n",
    "\n",
    "# Export single columns of the multidimensional annotation\n",
    "# adata2.obsm.to_df()[['X_pca1', 'X_pca2']].to_csv(\n",
    "#     './write/pbmc3k_corrected_X_pca.csv')\n",
    "\n",
    "# Or export everything except the data using `.write_csvs`.\n",
    "# Set `skip_data=False` if you also want to export the data.\n",
    "# adata2.write_csvs(results_file2[:-5], )"
   ]
  },
  {
   "cell_type": "markdown",
   "metadata": {
    "run_control": {
     "marked": false
    }
   },
   "source": [
    "# Integrating the two datasets at different analysis stages"
   ]
  },
  {
   "cell_type": "markdown",
   "metadata": {
    "run_control": {
     "marked": false
    }
   },
   "source": [
    "Both datasets have the same features space, but different number of obs (cells)."
   ]
  },
  {
   "cell_type": "code",
   "execution_count": null,
   "metadata": {
    "ExecuteTime": {
     "end_time": "2018-09-01T07:13:29.654022Z",
     "start_time": "2018-09-01T07:13:29.647194Z"
    },
    "run_control": {
     "marked": false
    }
   },
   "outputs": [],
   "source": [
    "import numpy as np\n",
    "import pandas as pd\n",
    "import scanpy.api as sc\n",
    "sc.settings.verbosity = 3  # verbosity: errors (0), warnings (1), info (2), hints (3)\n",
    "sc.settings.set_figure_params(dpi=80, color_map='viridis')\n",
    "sc.logging.print_versions()"
   ]
  },
  {
   "cell_type": "code",
   "execution_count": null,
   "metadata": {
    "cell_style": "split",
    "run_control": {
     "marked": false
    }
   },
   "outputs": [],
   "source": [
    "results_file = './write/pmbc3k.h5ad'"
   ]
  },
  {
   "cell_type": "code",
   "execution_count": null,
   "metadata": {
    "ExecuteTime": {
     "end_time": "2018-09-01T07:13:44.849264Z",
     "start_time": "2018-09-01T07:13:44.846509Z"
    },
    "cell_style": "split",
    "run_control": {
     "marked": false
    }
   },
   "outputs": [],
   "source": [
    "results_file2 = './write/pmbc3k2.h5ad'"
   ]
  },
  {
   "cell_type": "code",
   "execution_count": null,
   "metadata": {
    "ExecuteTime": {
     "end_time": "2018-08-31T10:22:24.440502Z",
     "start_time": "2018-08-31T10:22:24.106802Z"
    },
    "cell_style": "split",
    "run_control": {
     "marked": false
    }
   },
   "outputs": [],
   "source": [
    "path = './data/pbmc3k_filtered_gene_bc_matrices/hg19/'\n",
    "adata = sc.read(path + 'matrix.mtx', cache=True).T  # transpose the data\n",
    "print (adata)\n",
    "adata.var_names = pd.read_csv(path + 'genes.tsv', header=None, sep='\\t')[1]\n",
    "adata.obs_names = pd.read_csv(path + 'barcodes.tsv', header=None)[0]"
   ]
  },
  {
   "cell_type": "code",
   "execution_count": null,
   "metadata": {
    "ExecuteTime": {
     "end_time": "2018-09-01T07:13:45.143677Z",
     "start_time": "2018-09-01T07:13:44.859054Z"
    },
    "cell_style": "split",
    "run_control": {
     "marked": false
    }
   },
   "outputs": [],
   "source": [
    "path2 = './data/filtered_matrices_mex/hg19/'\n",
    "adata2 = sc.read(path2 + 'matrix.mtx', cache=True).T  # transpose the data\n",
    "print (adata2)\n",
    "adata2.var_names = pd.read_csv(path2 + 'genes.tsv', header=None, sep='\\t')[1]\n",
    "adata2.obs_names = pd.read_csv(path2 + 'barcodes.tsv', header=None)[0]"
   ]
  },
  {
   "cell_type": "code",
   "execution_count": null,
   "metadata": {
    "cell_style": "center",
    "run_control": {
     "marked": false
    }
   },
   "outputs": [],
   "source": [
    "print (len(list(adata.var_names)))\n",
    "print (len(list(set(adata.var_names))))\n",
    "print (\"--------------\")\n",
    "print (len(list(adata2.var_names)))\n",
    "print (len(list(set(adata2.var_names))))\n",
    "print (\"--------------\")\n",
    "print (len(set(adata.var_names) & set(adata2.var_names)))\n",
    "\n",
    "d2U = set(adata2.var_names)\n",
    "result = [x for x in adata.var_names if x not in d2U]\n",
    "print (len(result))"
   ]
  },
  {
   "cell_type": "code",
   "execution_count": null,
   "metadata": {
    "ExecuteTime": {
     "end_time": "2018-08-31T10:22:24.461705Z",
     "start_time": "2018-08-31T10:22:24.443668Z"
    },
    "cell_style": "split",
    "run_control": {
     "marked": false
    }
   },
   "outputs": [],
   "source": [
    "adata.var_names_make_unique()\n",
    "print (adata)"
   ]
  },
  {
   "cell_type": "code",
   "execution_count": null,
   "metadata": {
    "ExecuteTime": {
     "end_time": "2018-09-01T07:13:45.158264Z",
     "start_time": "2018-09-01T07:13:45.146112Z"
    },
    "cell_style": "split",
    "run_control": {
     "marked": false
    }
   },
   "outputs": [],
   "source": [
    "adata2.var_names_make_unique()\n",
    "print (adata2)"
   ]
  },
  {
   "cell_type": "code",
   "execution_count": null,
   "metadata": {
    "cell_style": "split",
    "run_control": {
     "marked": false
    }
   },
   "outputs": [],
   "source": [
    "print (adata.var_names)"
   ]
  },
  {
   "cell_type": "code",
   "execution_count": null,
   "metadata": {
    "cell_style": "split",
    "run_control": {
     "marked": false
    }
   },
   "outputs": [],
   "source": [
    "print (adata2.var_names)"
   ]
  },
  {
   "cell_type": "markdown",
   "metadata": {
    "run_control": {
     "marked": false
    }
   },
   "source": [
    "## Preprocessing"
   ]
  },
  {
   "cell_type": "markdown",
   "metadata": {
    "run_control": {
     "marked": false
    }
   },
   "source": [
    "<font color=blue>Basic filtering.</font>"
   ]
  },
  {
   "cell_type": "code",
   "execution_count": null,
   "metadata": {
    "ExecuteTime": {
     "end_time": "2018-08-31T10:22:24.665581Z",
     "start_time": "2018-08-31T10:22:24.464976Z"
    },
    "cell_style": "split",
    "run_control": {
     "marked": false
    }
   },
   "outputs": [],
   "source": [
    "#Filter cell outliers based on counts and numbers of genes expressed.\n",
    "#For instance, only keep cells with at least min_counts counts or min_genes genes expressed. This is to filter measurement outliers, i.e., “unreliable” observations.\n",
    "#Only provide one of the optional parameters min_counts, min_genes, max_counts, max_genes per call.\n",
    "sc.pp.filter_cells(adata, min_genes=200)\n",
    "\n",
    "#Filter genes based on number of cells or counts.\n",
    "#Keep genes that have at least min_counts counts or are expressed in at least min_cells cells or have at most max_counts counts or are expressed in at most max_cells cells.\n",
    "#Only provide one of the optional parameters min_counts, min_cells, max_counts, max_cells per call.\n",
    "sc.pp.filter_genes(adata, min_cells=3)"
   ]
  },
  {
   "cell_type": "code",
   "execution_count": null,
   "metadata": {
    "ExecuteTime": {
     "end_time": "2018-09-01T07:13:45.328398Z",
     "start_time": "2018-09-01T07:13:45.160700Z"
    },
    "cell_style": "split",
    "run_control": {
     "marked": false
    }
   },
   "outputs": [],
   "source": [
    "#Filter cell outliers based on counts and numbers of genes expressed.\n",
    "#For instance, only keep cells with at least min_counts counts or min_genes genes expressed. This is to filter measurement outliers, i.e., “unreliable” observations.\n",
    "#Only provide one of the optional parameters min_counts, min_genes, max_counts, max_genes per call.\n",
    "sc.pp.filter_cells(adata2, min_genes=200)\n",
    "\n",
    "#Filter genes based on number of cells or counts.\n",
    "#Keep genes that have at least min_counts counts or are expressed in at least min_cells cells or have at most max_counts counts or are expressed in at most max_cells cells.\n",
    "#Only provide one of the optional parameters min_counts, min_cells, max_counts, max_cells per call.\n",
    "sc.pp.filter_genes(adata2, min_cells=3)"
   ]
  },
  {
   "cell_type": "code",
   "execution_count": null,
   "metadata": {
    "cell_style": "split",
    "run_control": {
     "marked": false
    }
   },
   "outputs": [],
   "source": [
    "print (adata.shape)"
   ]
  },
  {
   "cell_type": "code",
   "execution_count": null,
   "metadata": {
    "cell_style": "split",
    "run_control": {
     "marked": false
    }
   },
   "outputs": [],
   "source": [
    "print (adata2.shape)"
   ]
  },
  {
   "cell_type": "markdown",
   "metadata": {
    "run_control": {
     "marked": false
    }
   },
   "source": [
    "<font color=red><B>Observation: </B></font></br>\n",
    "<font color=blue>The number of genes that have cell counts less than 3 is larger in the second dataset. The number of vars after filtering the genes is 13067 whereas in the first dataset, the number of genes after the filtering is 13714.\n",
    "\n",
    "==> the gene filtering is more stringent for the 2nd dataset.</font>"
   ]
  },
  {
   "cell_type": "markdown",
   "metadata": {
    "run_control": {
     "marked": false
    }
   },
   "source": [
    "Plot some information about mitochondrial genes, important for quality control. Note that you can also retrieve mitochondrial genes using `sc.queries.mitochondrial_genes_biomart('www.ensembl.org', 'mmusculus')`."
   ]
  },
  {
   "cell_type": "code",
   "execution_count": null,
   "metadata": {
    "ExecuteTime": {
     "end_time": "2018-08-31T10:22:24.762930Z",
     "start_time": "2018-08-31T10:22:24.727574Z"
    },
    "cell_style": "split",
    "run_control": {
     "marked": false
    }
   },
   "outputs": [],
   "source": [
    "mito_genes = [name for name in adata.var_names if name.startswith('MT-')]\n",
    "print (mito_genes)\n",
    "# for each cell compute fraction of counts in mito genes vs. all genes\n",
    "# the `.A1` is only necessary, as X is sparse - it transform to a dense array after summing\n",
    "adata.obs['percent_mito'] = np.sum(adata[:, mito_genes].X, axis=1).A1 / np.sum(adata.X, axis=1).A1\n",
    "print (adata.obs['percent_mito'])\n",
    "# add the total counts per cell as observations-annotation to adata\n",
    "adata.obs['n_counts'] = adata.X.sum(axis=1).A1\n",
    "print (adata.obs['n_counts'])"
   ]
  },
  {
   "cell_type": "code",
   "execution_count": null,
   "metadata": {
    "ExecuteTime": {
     "end_time": "2018-09-01T07:13:45.421875Z",
     "start_time": "2018-09-01T07:13:45.390819Z"
    },
    "cell_style": "split",
    "run_control": {
     "marked": false
    }
   },
   "outputs": [],
   "source": [
    "mito_genes2 = [name for name in adata2.var_names if name.startswith('MT-')]\n",
    "print (mito_genes2)\n",
    "# for each cell compute fraction of counts in mito genes vs. all genes\n",
    "# the `.A1` is only necessary, as X is sparse - it transform to a dense array after summing\n",
    "adata2.obs['percent_mito'] = np.sum(adata2[:, mito_genes2].X, axis=1).A1 / np.sum(adata2.X, axis=1).A1\n",
    "print (adata2.obs['percent_mito'])\n",
    "# add the total counts per cell as observations-annotation to adata\n",
    "adata2.obs['n_counts'] = adata2.X.sum(axis=1).A1\n",
    "print (adata2.obs['n_counts'])"
   ]
  },
  {
   "cell_type": "markdown",
   "metadata": {
    "run_control": {
     "marked": false
    }
   },
   "source": [
    "A violin plot of the computed quality measures."
   ]
  },
  {
   "cell_type": "code",
   "execution_count": null,
   "metadata": {
    "ExecuteTime": {
     "end_time": "2018-08-31T10:22:25.737962Z",
     "start_time": "2018-08-31T10:22:24.766540Z"
    },
    "cell_style": "split",
    "run_control": {
     "marked": false
    }
   },
   "outputs": [],
   "source": [
    "sc.pl.violin(adata, ['n_genes', 'n_counts', 'percent_mito'],\n",
    "             jitter=0.4, multi_panel=True)"
   ]
  },
  {
   "cell_type": "code",
   "execution_count": null,
   "metadata": {
    "ExecuteTime": {
     "end_time": "2018-09-01T07:13:46.352328Z",
     "start_time": "2018-09-01T07:13:45.425495Z"
    },
    "cell_style": "split",
    "run_control": {
     "marked": false
    }
   },
   "outputs": [],
   "source": [
    "sc.pl.violin(adata2, ['n_genes', 'n_counts', 'percent_mito'],\n",
    "             jitter=0.4, multi_panel=True)"
   ]
  },
  {
   "cell_type": "markdown",
   "metadata": {
    "run_control": {
     "marked": false
    }
   },
   "source": [
    "<font color=Red><B>General Observation:</B></font><br/>\n",
    "<font color=blue>Based on the plots above, we can see that the second dataset has smaller counts average for genes in general and for mito genes in particular compared to the first dataset.</font>"
   ]
  },
  {
   "cell_type": "markdown",
   "metadata": {
    "run_control": {
     "marked": false
    }
   },
   "source": [
    "Remove cells that have too many mitochondrial genes expressed or too many total counts."
   ]
  },
  {
   "cell_type": "code",
   "execution_count": null,
   "metadata": {
    "ExecuteTime": {
     "end_time": "2018-08-31T10:22:26.477714Z",
     "start_time": "2018-08-31T10:22:25.741321Z"
    },
    "cell_style": "split",
    "run_control": {
     "marked": false
    }
   },
   "outputs": [],
   "source": [
    "sc.pl.scatter(adata, x='n_counts', y='percent_mito')\n",
    "sc.pl.scatter(adata, x='n_counts', y='n_genes')"
   ]
  },
  {
   "cell_type": "code",
   "execution_count": null,
   "metadata": {
    "ExecuteTime": {
     "end_time": "2018-09-01T07:13:47.034937Z",
     "start_time": "2018-09-01T07:13:46.355815Z"
    },
    "cell_style": "split",
    "run_control": {
     "marked": false
    }
   },
   "outputs": [],
   "source": [
    "sc.pl.scatter(adata2, x='n_counts', y='percent_mito')\n",
    "sc.pl.scatter(adata2, x='n_counts', y='n_genes')"
   ]
  },
  {
   "cell_type": "markdown",
   "metadata": {
    "run_control": {
     "marked": false
    }
   },
   "source": [
    "Actually do the filtering."
   ]
  },
  {
   "cell_type": "code",
   "execution_count": null,
   "metadata": {
    "ExecuteTime": {
     "end_time": "2018-08-31T10:22:26.563684Z",
     "start_time": "2018-08-31T10:22:26.481728Z"
    },
    "cell_style": "split",
    "run_control": {
     "marked": false
    }
   },
   "outputs": [],
   "source": [
    "adata = adata[adata.obs['n_genes'] < 2500, :]\n",
    "print(adata)\n",
    "adata = adata[adata.obs['percent_mito'] < 0.05, :]\n",
    "print(adata)"
   ]
  },
  {
   "cell_type": "code",
   "execution_count": null,
   "metadata": {
    "ExecuteTime": {
     "end_time": "2018-09-01T07:13:47.101840Z",
     "start_time": "2018-09-01T07:13:47.038951Z"
    },
    "cell_style": "split",
    "run_control": {
     "marked": false
    }
   },
   "outputs": [],
   "source": [
    "adata2 = adata2[adata2.obs['n_genes'] < 2500, :]\n",
    "print(adata2)\n",
    "adata2 = adata2[adata2.obs['percent_mito'] < 0.05, :]\n",
    "print(adata2)"
   ]
  },
  {
   "cell_type": "markdown",
   "metadata": {
    "run_control": {
     "marked": false
    }
   },
   "source": [
    "<font color=blue>The cutoff used to filter the data here is based on the plots above. Instead, we can try using some basic methods to find the outliers. For example, interquartile range method.</font>"
   ]
  },
  {
   "cell_type": "code",
   "execution_count": null,
   "metadata": {
    "cell_style": "split",
    "run_control": {
     "marked": false
    }
   },
   "outputs": [],
   "source": [
    "from scipy.stats import iqr\n",
    "def outliers_iqr(ys):\n",
    "    quartile_1, quartile_3 = np.percentile(ys, [25, 75])\n",
    "    iqr_ = iqr(ys) #iqr = quartile_3 - quartile_1\n",
    "    print (\"IQR = \", iqr_)\n",
    "    print (\"Q1 = \", quartile_1)\n",
    "    print (\"Q3 = \", quartile_3)\n",
    "    lower_bound = quartile_1 - (iqr_ * 1.5)\n",
    "    upper_bound = quartile_3 + (iqr_ * 1.5)\n",
    "    print (\"The cutoffs are: lower=\", lower_bound, \"... upper=\", upper_bound)\n",
    "    return np.where((ys > upper_bound) | (ys < lower_bound))\n",
    "\n",
    "data = outliers_iqr(np.array(adata.obs['n_genes']))\n",
    "print (data)"
   ]
  },
  {
   "cell_type": "code",
   "execution_count": null,
   "metadata": {
    "cell_style": "split",
    "run_control": {
     "marked": false
    }
   },
   "outputs": [],
   "source": [
    "from scipy.stats import iqr\n",
    "def outliers_iqr(ys):\n",
    "    quartile_1, quartile_3 = np.percentile(ys, [25, 75])\n",
    "    iqr_ = iqr(ys) #iqr = quartile_3 - quartile_1\n",
    "    print (\"IQR = \", iqr_)\n",
    "    print (\"Q1 = \", quartile_1)\n",
    "    print (\"Q3 = \", quartile_3)\n",
    "    lower_bound = quartile_1 - (iqr_ * 1.5)\n",
    "    upper_bound = quartile_3 + (iqr_ * 1.5)\n",
    "    print (\"The cutoffs are: lower=\", lower_bound, \"... upper=\", upper_bound)\n",
    "    return np.where((ys > upper_bound) | (ys < lower_bound))\n",
    "\n",
    "data2 = outliers_iqr(np.array(adata2.obs['n_genes']))\n",
    "print (data2)"
   ]
  },
  {
   "cell_type": "markdown",
   "metadata": {
    "run_control": {
     "marked": false
    }
   },
   "source": [
    "Set the `.raw` attribute of AnnData object to the logarithmized raw gene expression for later use in differential testing and visualizations of gene expression. This simply freezes the state of the AnnData object returned by `sc.pp.log1p`."
   ]
  },
  {
   "cell_type": "code",
   "execution_count": null,
   "metadata": {
    "ExecuteTime": {
     "end_time": "2018-08-31T10:22:26.717965Z",
     "start_time": "2018-08-31T10:22:26.566885Z"
    },
    "cell_style": "split",
    "run_control": {
     "marked": false
    }
   },
   "outputs": [],
   "source": [
    "#Logarithmize the data matrix.\n",
    "#Computes X = log(X + 1), where log denotes the natural logarithm.\n",
    "adata.raw = sc.pp.log1p(adata, copy=True)"
   ]
  },
  {
   "cell_type": "code",
   "execution_count": null,
   "metadata": {
    "ExecuteTime": {
     "end_time": "2018-09-01T07:13:47.191696Z",
     "start_time": "2018-09-01T07:13:47.104915Z"
    },
    "cell_style": "split",
    "run_control": {
     "marked": false
    }
   },
   "outputs": [],
   "source": [
    "#Logarithmize the data matrix.\n",
    "#Computes X = log(X + 1), where log denotes the natural logarithm.\n",
    "adata2.raw = sc.pp.log1p(adata2, copy=True)"
   ]
  },
  {
   "cell_type": "code",
   "execution_count": null,
   "metadata": {
    "cell_style": "split",
    "run_control": {
     "marked": false
    }
   },
   "outputs": [],
   "source": [
    "adata"
   ]
  },
  {
   "cell_type": "code",
   "execution_count": null,
   "metadata": {
    "cell_style": "split",
    "run_control": {
     "marked": false
    }
   },
   "outputs": [],
   "source": [
    "adata2"
   ]
  },
  {
   "cell_type": "markdown",
   "metadata": {
    "run_control": {
     "marked": false
    }
   },
   "source": [
    "Per-cell normalize the data matrix $\\mathbf{X}$. Many people would consider the normalized data matrix as the \"relevant data\" for visualization and differential testing (assessing feature importance). Until a common viewpoint is reached on this, the decision of what to consider \"raw\", is up to the user. We tend to recommend to use the normalized data for visualization and differential testing even though here, we use the non-normalized data for the sake of consistency with the Seurat tutorial."
   ]
  },
  {
   "cell_type": "code",
   "execution_count": null,
   "metadata": {
    "cell_style": "split",
    "run_control": {
     "marked": false
    }
   },
   "outputs": [],
   "source": [
    "print (len(adata.obs))\n",
    "print (adata.obs)"
   ]
  },
  {
   "cell_type": "code",
   "execution_count": null,
   "metadata": {
    "cell_style": "split",
    "run_control": {
     "marked": false
    }
   },
   "outputs": [],
   "source": [
    "print (len(adata2.obs))\n",
    "print (adata2.obs)"
   ]
  },
  {
   "cell_type": "code",
   "execution_count": null,
   "metadata": {
    "ExecuteTime": {
     "end_time": "2018-08-31T10:22:26.803599Z",
     "start_time": "2018-08-31T10:22:26.721053Z"
    },
    "cell_style": "split",
    "code_folding": [],
    "run_control": {
     "marked": false
    }
   },
   "outputs": [],
   "source": [
    "#Normalize total counts per cell.\n",
    "#Normalize each cell by total counts over all genes, \n",
    "#so that every cell has the same total count after normalization.\n",
    "#counts_per_cell_after : float or None, optional (default: None)\n",
    "#If None, after normalization, each cell has a total count equal to \n",
    "#the median of the counts_per_cell before normalization. why 1e4?\n",
    "sc.pp.normalize_per_cell(adata, counts_per_cell_after=1e4)"
   ]
  },
  {
   "cell_type": "code",
   "execution_count": null,
   "metadata": {
    "ExecuteTime": {
     "end_time": "2018-09-01T07:13:47.246775Z",
     "start_time": "2018-09-01T07:13:47.194080Z"
    },
    "cell_style": "split",
    "run_control": {
     "marked": false
    }
   },
   "outputs": [],
   "source": [
    "#Normalize total counts per cell.\n",
    "#Normalize each cell by total counts over all genes, \n",
    "#so that every cell has the same total count after normalization.\n",
    "#counts_per_cell_after : float or None, optional (default: None)\n",
    "#If None, after normalization, each cell has a total count equal to \n",
    "#the median of the counts_per_cell before normalization. why 1e4?\n",
    "sc.pp.normalize_per_cell(adata2, counts_per_cell_after=1e4)"
   ]
  },
  {
   "cell_type": "code",
   "execution_count": null,
   "metadata": {
    "ExecuteTime": {
     "end_time": "2018-08-31T10:22:24.723502Z",
     "start_time": "2018-08-31T10:22:24.668682Z"
    },
    "cell_style": "split",
    "code_folding": [],
    "run_control": {
     "marked": false
    }
   },
   "outputs": [],
   "source": [
    "#print (adata)\n",
    "#print (\"=========\")\n",
    "print (len(adata.obs))\n",
    "print (\"=========\")\n",
    "print (len(adata.var))\n",
    "print (\"=========\")\n",
    "print (adata.shape)\n",
    "print (\"=========\")\n",
    "#df.reset_index(drop=True, inplace=True)\n",
    "#df = pd.DataFrame()\n",
    "df = pd.SparseDataFrame(adata.X, index=adata.obs_names, columns=adata.var_names, copy=True)\n",
    "print(df.shape)\n",
    "df = pd.concat([df,pd.DataFrame(df.sum(axis=1, skipna=True),columns=['Total'])],axis=1)\n",
    "df_min = pd.DataFrame(df.min(axis=0, skipna=True),columns=['Min'])\n",
    "df_max = pd.DataFrame(df.max(axis=0, skipna=True),columns=['Max'])\n",
    "df_mean = pd.DataFrame(df.mean(axis=0, skipna=True),columns=['Mean'])\n",
    "df_std = pd.DataFrame(df.std(axis=0, skipna=True),columns=['Std'])\n",
    "df_var = pd.DataFrame(df.var(axis=0, skipna=True),columns=['Var'])\n",
    "\n",
    "df = pd.concat([df, df_min.T])\n",
    "df = pd.concat([df, df_max.T])  \n",
    "df = pd.concat([df, df_mean.T]) \n",
    "df = pd.concat([df, df_std.T]) \n",
    "df = pd.concat([df, df_var.T]) \n",
    "df"
   ]
  },
  {
   "cell_type": "code",
   "execution_count": null,
   "metadata": {
    "ExecuteTime": {
     "end_time": "2018-09-01T07:13:45.387781Z",
     "start_time": "2018-09-01T07:13:45.331179Z"
    },
    "cell_style": "split",
    "code_folding": [
     0
    ],
    "run_control": {
     "marked": false
    }
   },
   "outputs": [],
   "source": [
    "#print (adata2)\n",
    "#print (\"=========\")\n",
    "print (len(adata2.obs))\n",
    "print (\"=========\")\n",
    "print (len(adata2.var))\n",
    "print (\"=========\")\n",
    "print (adata2.shape)\n",
    "print (\"=========\")\n",
    "#df.reset_index(drop=True, inplace=True)\n",
    "#df = pd.DataFrame()\n",
    "df2 = pd.SparseDataFrame(adata2.X, index=adata2.obs_names, columns=adata2.var_names, copy=True)\n",
    "print (df2.shape)\n",
    "df2 = pd.concat([df2,pd.DataFrame(df2.sum(axis=1, skipna=True),columns=['Total'])],axis=1)\n",
    "df2_min = pd.DataFrame(df2.min(axis=0, skipna=True),columns=['Min'])\n",
    "df2_max = pd.DataFrame(df2.max(axis=0, skipna=True),columns=['Max'])\n",
    "df2_mean = pd.DataFrame(df2.mean(axis=0, skipna=True),columns=['Mean'])\n",
    "df2_std = pd.DataFrame(df2.std(axis=0, skipna=True),columns=['Std'])\n",
    "df2_var = pd.DataFrame(df2.var(axis=0, skipna=True),columns=['Var'])\n",
    "\n",
    "df2 = pd.concat([df2, df2_min.T])\n",
    "df2 = pd.concat([df2, df2_max.T])  \n",
    "df2 = pd.concat([df2, df2_mean.T])\n",
    "df2 = pd.concat([df2, df2_std.T]) \n",
    "df2 = pd.concat([df2, df2_var.T]) \n",
    "df2"
   ]
  },
  {
   "cell_type": "code",
   "execution_count": null,
   "metadata": {
    "cell_style": "split",
    "run_control": {
     "marked": false
    }
   },
   "outputs": [],
   "source": [
    "import numpy\n",
    "print(\"min_min: \", numpy.min(df_min.iloc[:-1]), \"Min of df_min: \", df_min.iloc[np.where(df_min==numpy.min(df_min.iloc[:-1]))].index)\n",
    "print(\"------------------------\")\n",
    "print(\"max_min: \", numpy.max(df_min.iloc[:-1]), \"Max of df_min: \", df_min.iloc[np.where(df_min==numpy.max(df_min.iloc[:-1]))].index)\n",
    "print(\"------------------------\")\n",
    "print(\"mean_min: \", numpy.mean(df_min.iloc[:-1]))\n",
    "print(\"======================================\")\n",
    "print(\"min_max: \", numpy.min(df_max.iloc[:-1]), \"Min of df_max: \", df_max.iloc[np.where(df_max==numpy.min(df_max.iloc[:-1]))].index)\n",
    "print(\"------------------------\")\n",
    "print(\"max_max: \", numpy.max(df_max.iloc[:-1]), \"Max of df_max: \", df_max.iloc[np.where(df_max==numpy.max(df_max.iloc[:-1]))].index)\n",
    "print(\"------------------------\")\n",
    "print(\"mean_max: \", numpy.mean(df_max.iloc[:-1]))\n",
    "print(\"======================================\")\n",
    "print(\"min_mean: \", numpy.min(df_mean.iloc[:-1]))\n",
    "print(\"------------------------\")\n",
    "print(\"max_mean: \", numpy.max(df_mean.iloc[:-1]))\n",
    "print(\"------------------------\")\n",
    "print(\"mean_mean: \", numpy.mean(df_mean.iloc[:-1]))\n",
    "print(\"======================================\")\n",
    "print(\"min_std: \", numpy.min(df_std.iloc[:-1]))\n",
    "print(\"------------------------\")\n",
    "print(\"max_std: \", numpy.max(df_std.iloc[:-1]))\n",
    "print(\"------------------------\")\n",
    "print(\"mean_std: \", numpy.mean(df_std.iloc[:-1]))\n",
    "print(\"======================================\")\n",
    "print(\"min_var: \", numpy.min(df_var.iloc[:-1]))\n",
    "print(\"------------------------\")\n",
    "print(\"max_var: \", numpy.max(df_var.iloc[:-1]))\n",
    "print(\"------------------------\")\n",
    "print(\"mean_var: \", numpy.mean(df_var.iloc[:-1]))"
   ]
  },
  {
   "cell_type": "code",
   "execution_count": null,
   "metadata": {
    "cell_style": "split",
    "run_control": {
     "marked": false
    }
   },
   "outputs": [],
   "source": [
    "import numpy\n",
    "print(\"min_min: \", numpy.min(df2_min.iloc[:-1]), \"Min of df2_min: \", df2_min.iloc[np.where(df2_min==numpy.min(df2_min.iloc[:-1]))].index)\n",
    "print(\"------------------------\")\n",
    "print(\"max_min: \", numpy.max(df2_min.iloc[:-1]), \"Max of df2_min: \", df2_min.iloc[np.where(df2_min==numpy.max(df2_min.iloc[:-1]))].index)\n",
    "print(\"------------------------\")\n",
    "print(\"mean_min: \", numpy.mean(df2_min.iloc[:-1]))\n",
    "print(\"======================================\")\n",
    "print(\"min_max: \", numpy.min(df2_max.iloc[:-1]), \"Min of df2_max: \", df2_max.iloc[np.where(df2_max==numpy.min(df2_max.iloc[:-1]))].index)\n",
    "print(\"------------------------\")\n",
    "print(\"max_max: \", numpy.max(df2_max.iloc[:-1]), \"Max of df2_max: \", df2_max.iloc[np.where(df2_max==numpy.max(df2_max.iloc[:-1]))].index)\n",
    "print(\"------------------------\")\n",
    "print(\"mean_max: \", numpy.mean(df2_max.iloc[:-1]))\n",
    "print(\"======================================\")\n",
    "print(\"min_mean: \", numpy.min(df2_mean.iloc[:-1]))\n",
    "print(\"------------------------\")\n",
    "print(\"max_mean: \", numpy.max(df2_mean.iloc[:-1]))\n",
    "print(\"------------------------\")\n",
    "print(\"mean_mean: \", numpy.mean(df2_mean.iloc[:-1]))\n",
    "print(\"======================================\")\n",
    "print(\"min_std: \", numpy.min(df2_std.iloc[:-1]))\n",
    "print(\"------------------------\")\n",
    "print(\"max_std: \", numpy.max(df2_std.iloc[:-1]))\n",
    "print(\"------------------------\")\n",
    "print(\"mean_std: \", numpy.mean(df2_std.iloc[:-1]))\n",
    "print(\"======================================\")\n",
    "print(\"min_var: \", numpy.min(df2_var.iloc[:-1]))\n",
    "print(\"------------------------\")\n",
    "print(\"max_var: \", numpy.max(df2_var.iloc[:-1]))\n",
    "print(\"------------------------\")\n",
    "print(\"mean_var: \", numpy.mean(df2_var.iloc[:-1]))"
   ]
  },
  {
   "cell_type": "markdown",
   "metadata": {
    "run_control": {
     "marked": false
    }
   },
   "source": [
    "Identify highly-variable genes."
   ]
  },
  {
   "cell_type": "code",
   "execution_count": null,
   "metadata": {
    "ExecuteTime": {
     "end_time": "2018-08-31T10:22:28.076662Z",
     "start_time": "2018-08-31T10:22:26.806372Z"
    },
    "cell_style": "split",
    "code_folding": [
     0
    ],
    "run_control": {
     "marked": false
    }
   },
   "outputs": [],
   "source": [
    "#Extract highly variable genes.\n",
    "#If trying out parameters, pass the data matrix instead of AnnData.\n",
    "#The normalized dispersion is obtained by scaling with the mean and standard deviation \n",
    "#of the dispersions for genes falling into a given bin for mean expression of genes. \n",
    "#This means that for each bin of mean expression, highly variable genes are selected.\n",
    "sc.settings.verbosity = 4\n",
    "filter_result = sc.pp.filter_genes_dispersion(adata.X, min_mean=0.0125, max_mean=3, min_disp=0.5)\n",
    "print (filter_result.means)\n",
    "print (filter_result.dispersions)\n",
    "print (filter_result.dispersions_norm)\n",
    "# OR just the following line.. its columns [means,dispersions,dispersions_norm]\n",
    "print(filter_result)\n",
    "sc.pl.filter_genes_dispersion(filter_result)"
   ]
  },
  {
   "cell_type": "code",
   "execution_count": null,
   "metadata": {
    "ExecuteTime": {
     "end_time": "2018-09-01T07:13:48.311869Z",
     "start_time": "2018-09-01T07:13:47.249568Z"
    },
    "cell_style": "split",
    "code_folding": [
     0
    ],
    "run_control": {
     "marked": false
    }
   },
   "outputs": [],
   "source": [
    "#Extract highly variable genes.\n",
    "#If trying out parameters, pass the data matrix instead of AnnData.\n",
    "#The normalized dispersion is obtained by scaling with the mean and standard deviation \n",
    "#of the dispersions for genes falling into a given bin for mean expression of genes. \n",
    "#This means that for each bin of mean expression, highly variable genes are selected.\n",
    "sc.settings.verbosity = 4\n",
    "filter_result2 = sc.pp.filter_genes_dispersion(adata2.X, min_mean=0.0125, max_mean=3, min_disp=0.5)\n",
    "print (filter_result2.means)\n",
    "print (filter_result2.dispersions)\n",
    "print (filter_result2.dispersions_norm)\n",
    "# OR just the following line.. its columns [means,dispersions,dispersions_norm]\n",
    "print(filter_result2)\n",
    "sc.pl.filter_genes_dispersion(filter_result2)"
   ]
  },
  {
   "cell_type": "markdown",
   "metadata": {
    "run_control": {
     "marked": false
    }
   },
   "source": [
    "Actually do the filtering."
   ]
  },
  {
   "cell_type": "code",
   "execution_count": null,
   "metadata": {
    "ExecuteTime": {
     "end_time": "2018-08-31T10:22:28.131040Z",
     "start_time": "2018-08-31T10:22:28.079990Z"
    },
    "cell_style": "split",
    "run_control": {
     "marked": true
    }
   },
   "outputs": [],
   "source": [
    "adata = adata[:, filter_result.gene_subset]\n",
    "print (adata)"
   ]
  },
  {
   "cell_type": "code",
   "execution_count": null,
   "metadata": {
    "ExecuteTime": {
     "end_time": "2018-09-01T07:13:48.354736Z",
     "start_time": "2018-09-01T07:13:48.315395Z"
    },
    "cell_style": "split",
    "run_control": {
     "marked": true
    }
   },
   "outputs": [],
   "source": [
    "adata2 = adata2[:, filter_result2.gene_subset]\n",
    "print (adata2)"
   ]
  },
  {
   "cell_type": "markdown",
   "metadata": {
    "run_control": {
     "marked": false
    }
   },
   "source": [
    "Logarithmize the data."
   ]
  },
  {
   "cell_type": "code",
   "execution_count": null,
   "metadata": {
    "ExecuteTime": {
     "end_time": "2018-08-31T10:22:33.747469Z",
     "start_time": "2018-08-31T10:22:28.135095Z"
    },
    "cell_style": "split",
    "run_control": {
     "marked": true
    }
   },
   "outputs": [],
   "source": [
    "sc.pp.log1p(adata)"
   ]
  },
  {
   "cell_type": "code",
   "execution_count": null,
   "metadata": {
    "ExecuteTime": {
     "end_time": "2018-09-01T07:13:54.024096Z",
     "start_time": "2018-09-01T07:13:48.358047Z"
    },
    "cell_style": "split",
    "run_control": {
     "marked": true
    }
   },
   "outputs": [],
   "source": [
    "sc.pp.log1p(adata2)"
   ]
  },
  {
   "cell_type": "code",
   "execution_count": null,
   "metadata": {
    "cell_style": "split",
    "run_control": {
     "marked": true
    }
   },
   "outputs": [],
   "source": [
    "adata.obs"
   ]
  },
  {
   "cell_type": "code",
   "execution_count": null,
   "metadata": {
    "cell_style": "split",
    "run_control": {
     "marked": true
    }
   },
   "outputs": [],
   "source": [
    "adata2.obs"
   ]
  },
  {
   "cell_type": "markdown",
   "metadata": {
    "run_control": {
     "marked": false
    }
   },
   "source": [
    "\n",
    "Regress out effects of total counts per cell and the percentage of mitochondrial genes expressed. Scale the data to unit variance."
   ]
  },
  {
   "cell_type": "code",
   "execution_count": null,
   "metadata": {
    "ExecuteTime": {
     "end_time": "2018-08-31T10:22:39.961683Z",
     "start_time": "2018-08-31T10:22:33.749605Z"
    },
    "cell_style": "split",
    "code_folding": [],
    "run_control": {
     "marked": false
    }
   },
   "outputs": [],
   "source": [
    "#Regress out unwanted sources of variation.\n",
    "#Uses simple linear regression.\n",
    "sc.pp.regress_out(adata, ['n_counts', 'percent_mito'])\n",
    "print (adata)"
   ]
  },
  {
   "cell_type": "code",
   "execution_count": null,
   "metadata": {
    "ExecuteTime": {
     "end_time": "2018-09-01T07:14:01.919967Z",
     "start_time": "2018-09-01T07:13:54.027072Z"
    },
    "cell_style": "split",
    "code_folding": [],
    "run_control": {
     "marked": false
    }
   },
   "outputs": [],
   "source": [
    "#Regress out unwanted sources of variation.\n",
    "#Uses simple linear regression.\n",
    "sc.pp.regress_out(adata2, ['n_counts', 'percent_mito'])\n",
    "print (adata2)"
   ]
  },
  {
   "cell_type": "code",
   "execution_count": null,
   "metadata": {
    "ExecuteTime": {
     "end_time": "2018-08-31T10:22:40.057366Z",
     "start_time": "2018-08-31T10:22:39.966962Z"
    },
    "cell_style": "split",
    "code_folding": [
     0
    ],
    "run_control": {
     "marked": false
    }
   },
   "outputs": [],
   "source": [
    "#Scale data to unit variance and zero mean.\n",
    "#The (annotated) data matrix of shape n_obs × n_vars. \n",
    "#Rows correspond to cells and columns to genes.\n",
    "#max_value : float or None, optional (default: None)\n",
    "#Clip (truncate) to this value after scaling. If None, do not clip.\n",
    "sc.pp.scale(adata, max_value=10)"
   ]
  },
  {
   "cell_type": "code",
   "execution_count": null,
   "metadata": {
    "ExecuteTime": {
     "end_time": "2018-08-31T10:22:40.057366Z",
     "start_time": "2018-08-31T10:22:39.966962Z"
    },
    "cell_style": "split",
    "code_folding": [
     0
    ],
    "run_control": {
     "marked": false
    }
   },
   "outputs": [],
   "source": [
    "#Scale data to unit variance and zero mean.\n",
    "#The (annotated) data matrix of shape n_obs × n_vars. \n",
    "#Rows correspond to cells and columns to genes.\n",
    "#max_value : float or None, optional (default: None)\n",
    "#Clip (truncate) to this value after scaling. If None, do not clip.\n",
    "sc.pp.scale(adata2, max_value=10)"
   ]
  },
  {
   "cell_type": "code",
   "execution_count": null,
   "metadata": {
    "cell_style": "split",
    "code_folding": [
     0
    ],
    "run_control": {
     "marked": false
    }
   },
   "outputs": [],
   "source": [
    "#print (adata)\n",
    "#print (\"=========\")\n",
    "print (len(adata.obs))\n",
    "print (\"=========\")\n",
    "print (len(adata.var))\n",
    "print (\"=========\")\n",
    "print (adata.shape)\n",
    "print (\"=========\")\n",
    "#df.reset_index(drop=True, inplace=True)\n",
    "#df = pd.DataFrame()\n",
    "df = pd.SparseDataFrame(adata.X, index=adata.obs_names, columns=adata.var_names, copy=True)\n",
    "print(df.shape)\n",
    "df = pd.concat([df,pd.DataFrame(df.sum(axis=1, skipna=True),columns=['Total'])],axis=1)\n",
    "df_min = pd.DataFrame(df.min(axis=0, skipna=True),columns=['Min'])\n",
    "df_max = pd.DataFrame(df.max(axis=0, skipna=True),columns=['Max'])\n",
    "df_mean = pd.DataFrame(df.mean(axis=0, skipna=True),columns=['Mean'])\n",
    "df_std = pd.DataFrame(df.std(axis=0, skipna=True),columns=['Std'])\n",
    "df_var = pd.DataFrame(df.var(axis=0, skipna=True),columns=['Var'])\n",
    "\n",
    "df = pd.concat([df, df_min.T])\n",
    "df = pd.concat([df, df_max.T])  \n",
    "df = pd.concat([df, df_mean.T]) \n",
    "df = pd.concat([df, df_std.T]) \n",
    "df = pd.concat([df, df_var.T]) \n",
    "df"
   ]
  },
  {
   "cell_type": "code",
   "execution_count": null,
   "metadata": {
    "cell_style": "split",
    "code_folding": [
     0
    ],
    "run_control": {
     "marked": false
    }
   },
   "outputs": [],
   "source": [
    "#print (adata2)\n",
    "#print (\"=========\")\n",
    "print (len(adata2.obs))\n",
    "print (\"=========\")\n",
    "print (len(adata2.var))\n",
    "print (\"=========\")\n",
    "print (adata2.shape)\n",
    "print (\"=========\")\n",
    "#df.reset_index(drop=True, inplace=True)\n",
    "#df = pd.DataFrame()\n",
    "df2 = pd.SparseDataFrame(adata2.X, index=adata2.obs_names, columns=adata2.var_names, copy=True)\n",
    "print (df2.shape)\n",
    "df2 = pd.concat([df2,pd.DataFrame(df2.sum(axis=1, skipna=True),columns=['Total'])],axis=1)\n",
    "df2_min = pd.DataFrame(df2.min(axis=0, skipna=True),columns=['Min'])\n",
    "df2_max = pd.DataFrame(df2.max(axis=0, skipna=True),columns=['Max'])\n",
    "df2_mean = pd.DataFrame(df2.mean(axis=0, skipna=True),columns=['Mean'])\n",
    "df2_std = pd.DataFrame(df2.std(axis=0, skipna=True),columns=['Std'])\n",
    "df2_var = pd.DataFrame(df2.var(axis=0, skipna=True),columns=['Var'])\n",
    "\n",
    "df2 = pd.concat([df2, df2_min.T])\n",
    "df2 = pd.concat([df2, df2_max.T])  \n",
    "df2 = pd.concat([df2, df2_mean.T])\n",
    "df2 = pd.concat([df2, df2_std.T]) \n",
    "df2 = pd.concat([df2, df2_var.T]) \n",
    "df2"
   ]
  },
  {
   "cell_type": "markdown",
   "metadata": {
    "cell_style": "center",
    "run_control": {
     "marked": false
    }
   },
   "source": [
    "Save the results."
   ]
  },
  {
   "cell_type": "code",
   "execution_count": null,
   "metadata": {
    "ExecuteTime": {
     "end_time": "2018-08-31T10:22:41.379012Z",
     "start_time": "2018-08-31T10:22:40.061128Z"
    },
    "cell_style": "split",
    "run_control": {
     "marked": false
    }
   },
   "outputs": [],
   "source": [
    "adata.write(results_file)"
   ]
  },
  {
   "cell_type": "code",
   "execution_count": null,
   "metadata": {
    "ExecuteTime": {
     "end_time": "2018-09-01T07:14:02.492002Z",
     "start_time": "2018-09-01T07:14:01.988311Z"
    },
    "cell_style": "split",
    "run_control": {
     "marked": false
    }
   },
   "outputs": [],
   "source": [
    "adata2.write(results_file2)"
   ]
  },
  {
   "cell_type": "code",
   "execution_count": null,
   "metadata": {
    "run_control": {
     "marked": false
    }
   },
   "outputs": [],
   "source": [
    "union = set(adata.var_names | adata2.var_names)\n",
    "print(len(union))\n",
    "combined = set(union & set(list(adata2.var_names)))\n",
    "print(len(combined))\n",
    "combined = set(combined & set(list(adata.var_names)))\n",
    "print(len(combined))\n",
    "\n"
   ]
  },
  {
   "cell_type": "code",
   "execution_count": null,
   "metadata": {
    "run_control": {
     "marked": false
    }
   },
   "outputs": [],
   "source": [
    "%load_ext rpy2.ipython\n"
   ]
  },
  {
   "cell_type": "code",
   "execution_count": null,
   "metadata": {},
   "outputs": [],
   "source": [
    "import warnings\n",
    "import numpy as np\n",
    "import pandas as pd \n",
    "import rpy2\n",
    "from rpy2.robjects import pandas2ri\n",
    "pandas2ri.activate()\n",
    "warnings.filterwarnings('ignore')"
   ]
  },
  {
   "cell_type": "code",
   "execution_count": null,
   "metadata": {},
   "outputs": [],
   "source": [
    "%R require(ggplot2); require(tidyr); require(Seurat)"
   ]
  },
  {
   "cell_type": "code",
   "execution_count": null,
   "metadata": {},
   "outputs": [],
   "source": [
    "\n",
    "df = pd.SparseDataFrame(adata.X, index=adata.obs_names, columns=adata.var_names, copy=True)\n",
    "print(df.shape)\n",
    "r_dataframe=pandas2ri.py2ri(df)"
   ]
  },
  {
   "cell_type": "code",
   "execution_count": null,
   "metadata": {},
   "outputs": [],
   "source": [
    "from sklearn.cross_decomposition import CCA"
   ]
  },
  {
   "cell_type": "code",
   "execution_count": null,
   "metadata": {},
   "outputs": [],
   "source": [
    "adata"
   ]
  },
  {
   "cell_type": "code",
   "execution_count": null,
   "metadata": {},
   "outputs": [],
   "source": [
    "cca = CCA(n_components=2)\n"
   ]
  },
  {
   "cell_type": "code",
   "execution_count": null,
   "metadata": {},
   "outputs": [],
   "source": [
    "cca.fit(adata.X.T.toarray(), adata2.X.T.toarray())\n"
   ]
  },
  {
   "cell_type": "code",
   "execution_count": null,
   "metadata": {},
   "outputs": [],
   "source": [
    "CCA(copy=True, max_iter=500, n_components=1, scale=False, tol=1e-06)\n"
   ]
  },
  {
   "cell_type": "code",
   "execution_count": null,
   "metadata": {
    "run_control": {
     "marked": false
    }
   },
   "outputs": [],
   "source": [
    "X_c, Y_c = cca.transform(adata.X.T.toarray(), adata2.X.T.toarray())\n",
    "result = np.corrcoef(X_c.T, Y_c.T)[0,1]\n",
    "result"
   ]
  },
  {
   "cell_type": "code",
   "execution_count": null,
   "metadata": {
    "run_control": {
     "marked": false
    }
   },
   "outputs": [],
   "source": [
    "X_c"
   ]
  },
  {
   "cell_type": "code",
   "execution_count": null,
   "metadata": {
    "run_control": {
     "marked": false
    }
   },
   "outputs": [],
   "source": [
    "Y_c"
   ]
  },
  {
   "cell_type": "code",
   "execution_count": null,
   "metadata": {},
   "outputs": [],
   "source": [
    "import scipy.stats\n",
    "corrcoef,p_value = scipy.stats.pearsonr(X_c,Y_c)"
   ]
  },
  {
   "cell_type": "code",
   "execution_count": null,
   "metadata": {},
   "outputs": [],
   "source": [
    "corrcoef\n",
    "#p_value"
   ]
  },
  {
   "cell_type": "code",
   "execution_count": null,
   "metadata": {
    "run_control": {
     "marked": false
    }
   },
   "outputs": [],
   "source": [
    "import numpy as np\n",
    "\n",
    "import plotly.plotly as py\n",
    "import plotly.graph_objs as go\n",
    "from plotly import tools\n",
    "\n",
    "from sklearn.datasets import make_multilabel_classification\n",
    "from sklearn.multiclass import OneVsRestClassifier\n",
    "from sklearn.svm import SVC\n",
    "from sklearn.preprocessing import LabelBinarizer\n",
    "from sklearn.decomposition import PCA\n",
    "from sklearn.cross_decomposition import CCA"
   ]
  },
  {
   "cell_type": "code",
   "execution_count": null,
   "metadata": {
    "run_control": {
     "marked": false
    }
   },
   "outputs": [],
   "source": [
    "cca.x_loadings_\n",
    "\n",
    "#print(list(cca.x_scores_))\n",
    "#cca.get_params(deep=True)"
   ]
  },
  {
   "cell_type": "code",
   "execution_count": null,
   "metadata": {},
   "outputs": [],
   "source": [
    "cca.get_attributes()\n",
    "cca.y_loadings_"
   ]
  },
  {
   "cell_type": "code",
   "execution_count": null,
   "metadata": {
    "run_control": {
     "marked": false
    }
   },
   "outputs": [],
   "source": [
    "len(adata.obs_names & adata2.obs_names)"
   ]
  },
  {
   "cell_type": "code",
   "execution_count": null,
   "metadata": {
    "run_control": {
     "marked": false
    }
   },
   "outputs": [],
   "source": []
  },
  {
   "cell_type": "code",
   "execution_count": null,
   "metadata": {
    "run_control": {
     "marked": false
    }
   },
   "outputs": [],
   "source": [
    "%matplotlib inline"
   ]
  },
  {
   "cell_type": "code",
   "execution_count": null,
   "metadata": {
    "run_control": {
     "marked": false
    }
   },
   "outputs": [],
   "source": [
    "print(__doc__)\n",
    "\n",
    "import numpy as np\n",
    "import matplotlib.pyplot as plt\n",
    "\n",
    "from sklearn.datasets import make_multilabel_classification\n",
    "from sklearn.multiclass import OneVsRestClassifier\n",
    "from sklearn.svm import SVC\n",
    "from sklearn.preprocessing import LabelBinarizer\n",
    "from sklearn.decomposition import PCA\n",
    "from sklearn.cross_decomposition import CCA\n",
    "\n",
    "\n",
    "def plot_hyperplane(clf, min_x, max_x, linestyle, label):\n",
    "    # get the separating hyperplane\n",
    "    w = clf.coef_[0]\n",
    "    a = -w[0] / w[1]\n",
    "    xx = np.linspace(min_x - 5, max_x + 5)  # make sure the line is long enough\n",
    "    yy = a * xx - (clf.intercept_[0]) / w[1]\n",
    "    plt.plot(xx, yy, linestyle, label=label)\n",
    "\n",
    "\n",
    "def plot_subfigure(X, Y, subplot, title, transform):\n",
    "    #if transform == \"pca\":\n",
    "     #   X = PCA(n_components=2).fit_transform(X)\n",
    "    #elif transform == \"cca\":\n",
    "     #   X = CCA(n_components=2).fit(X, Y).transform(X)\n",
    "    #else:\n",
    "     #   raise ValueError\n",
    "\n",
    "    min_x = np.min(X[:, 0])\n",
    "    max_x = np.max(X[:, 0])\n",
    "\n",
    "    min_y = np.min(X[:, 1])\n",
    "    max_y = np.max(X[:, 1])\n",
    "\n",
    "    #classif = OneVsRestClassifier(SVC(kernel='linear'))\n",
    "    #classif.fit(X, Y)\n",
    "\n",
    "    plt.subplot(2, 2, subplot)\n",
    "    plt.title(title)\n",
    "\n",
    "    zero_class = np.where(Y[:, 0])\n",
    "    one_class = np.where(Y[:, 1])\n",
    "    plt.scatter(X[:, 0], X[:, 1], s=40, c='gray', edgecolors=(0, 0, 0))\n",
    "    plt.scatter(X[zero_class, 0], X[zero_class, 1], s=160, edgecolors='b',\n",
    "                facecolors='none', linewidths=2, label='Class 1')\n",
    "    plt.scatter(X[one_class, 0], X[one_class, 1], s=80, edgecolors='orange',\n",
    "                facecolors='none', linewidths=2, label='Class 2')\n",
    "\n",
    "    #plot_hyperplane(classif.estimators_[0], min_x, max_x, 'k--','Boundary\\nfor class 1')\n",
    "    #plot_hyperplane(classif.estimators_[1], min_x, max_x, 'k-.','Boundary\\nfor class 2')\n",
    "    plt.xticks(())\n",
    "    plt.yticks(())\n",
    "\n",
    "    plt.xlim(min_x - .5 * max_x, max_x + .5 * max_x)\n",
    "    plt.ylim(min_y - .5 * max_y, max_y + .5 * max_y)\n",
    "    if subplot == 2:\n",
    "        plt.xlabel('First principal component')\n",
    "        plt.ylabel('Second principal component')\n",
    "        plt.legend(loc=\"upper left\")\n",
    "\n",
    "\n",
    "plt.figure(figsize=(8, 6))\n",
    "\n",
    "#X, Y = make_multilabel_classification(n_classes=2, n_labels=1,allow_unlabeled=True,random_state=1)\n",
    "\n",
    "plot_subfigure(X_c, Y_c, 1, \"With unlabeled samples + CCA\", \"cca\")\n",
    "#plot_subfigure(X, Y, 2, \"With unlabeled samples + PCA\", \"pca\")\n",
    "\n",
    "plt.subplots_adjust(.04, .02, .97, .94, .09, .2)\n",
    "plt.show()"
   ]
  },
  {
   "cell_type": "code",
   "execution_count": null,
   "metadata": {
    "run_control": {
     "marked": false
    }
   },
   "outputs": [],
   "source": [
    "sc.pl.scatter(cca, cca.x_scores_, cca.y_scores_)"
   ]
  },
  {
   "cell_type": "code",
   "execution_count": null,
   "metadata": {
    "run_control": {
     "marked": false
    }
   },
   "outputs": [],
   "source": [
    "cca"
   ]
  },
  {
   "cell_type": "code",
   "execution_count": null,
   "metadata": {
    "run_control": {
     "marked": false
    }
   },
   "outputs": [],
   "source": []
  },
  {
   "cell_type": "code",
   "execution_count": null,
   "metadata": {
    "run_control": {
     "marked": false
    }
   },
   "outputs": [],
   "source": []
  },
  {
   "cell_type": "code",
   "execution_count": null,
   "metadata": {
    "run_control": {
     "marked": false
    }
   },
   "outputs": [],
   "source": [
    "X"
   ]
  },
  {
   "cell_type": "code",
   "execution_count": null,
   "metadata": {
    "run_control": {
     "marked": false
    }
   },
   "outputs": [],
   "source": []
  },
  {
   "cell_type": "code",
   "execution_count": null,
   "metadata": {
    "run_control": {
     "marked": false
    }
   },
   "outputs": [],
   "source": []
  },
  {
   "cell_type": "code",
   "execution_count": null,
   "metadata": {
    "run_control": {
     "marked": false
    }
   },
   "outputs": [],
   "source": []
  },
  {
   "cell_type": "code",
   "execution_count": null,
   "metadata": {
    "run_control": {
     "marked": false
    }
   },
   "outputs": [],
   "source": []
  },
  {
   "cell_type": "code",
   "execution_count": null,
   "metadata": {
    "run_control": {
     "marked": false
    }
   },
   "outputs": [],
   "source": []
  },
  {
   "cell_type": "code",
   "execution_count": null,
   "metadata": {
    "run_control": {
     "marked": false
    }
   },
   "outputs": [],
   "source": []
  },
  {
   "cell_type": "code",
   "execution_count": null,
   "metadata": {
    "run_control": {
     "marked": false
    }
   },
   "outputs": [],
   "source": []
  },
  {
   "cell_type": "code",
   "execution_count": null,
   "metadata": {
    "run_control": {
     "marked": false
    }
   },
   "outputs": [],
   "source": []
  },
  {
   "cell_type": "code",
   "execution_count": null,
   "metadata": {
    "run_control": {
     "marked": false
    }
   },
   "outputs": [],
   "source": []
  },
  {
   "cell_type": "code",
   "execution_count": null,
   "metadata": {
    "run_control": {
     "marked": false
    }
   },
   "outputs": [],
   "source": []
  },
  {
   "cell_type": "code",
   "execution_count": null,
   "metadata": {
    "run_control": {
     "marked": false
    }
   },
   "outputs": [],
   "source": []
  },
  {
   "cell_type": "code",
   "execution_count": null,
   "metadata": {
    "run_control": {
     "marked": false
    }
   },
   "outputs": [],
   "source": []
  }
 ],
 "metadata": {
  "anaconda-cloud": {},
  "celltoolbar": "Raw Cell Format",
  "kernelspec": {
   "display_name": "Python 3",
   "language": "python",
   "name": "python3"
  },
  "language_info": {
   "codemirror_mode": {
    "name": "ipython",
    "version": 3
   },
   "file_extension": ".py",
   "mimetype": "text/x-python",
   "name": "python",
   "nbconvert_exporter": "python",
   "pygments_lexer": "ipython3",
   "version": "3.7.0"
  },
  "latex_envs": {
   "LaTeX_envs_menu_present": true,
   "autocomplete": true,
   "bibliofile": "biblio.bib",
   "cite_by": "apalike",
   "current_citInitial": 1,
   "eqLabelWithNumbers": true,
   "eqNumInitial": 1,
   "hotkeys": {
    "equation": "Ctrl-E",
    "itemize": "Ctrl-I"
   },
   "labels_anchors": false,
   "latex_user_defs": false,
   "report_style_numbering": false,
   "user_envs_cfg": false
  },
  "toc": {
   "colors": {
    "hover_highlight": "#DAA520",
    "navigate_num": "#000000",
    "navigate_text": "#333333",
    "running_highlight": "#FF0000",
    "selected_highlight": "#FFD700",
    "sidebar_border": "#EEEEEE",
    "wrapper_background": "#FFFFFF"
   },
   "moveMenuLeft": true,
   "nav_menu": {
    "height": "138px",
    "width": "252px"
   },
   "navigate_menu": true,
   "number_sections": true,
   "sideBar": true,
   "threshold": 4,
   "toc_cell": true,
   "toc_position": {
    "height": "511px",
    "left": "0px",
    "right": "1021px",
    "top": "206px",
    "width": "219px"
   },
   "toc_section_display": "block",
   "toc_window_display": true,
   "widenNotebook": false
  },
  "varInspector": {
   "cols": {
    "lenName": 16,
    "lenType": 16,
    "lenVar": 40
   },
   "kernels_config": {
    "python": {
     "delete_cmd_postfix": "",
     "delete_cmd_prefix": "del ",
     "library": "var_list.py",
     "varRefreshCmd": "print(var_dic_list())"
    },
    "r": {
     "delete_cmd_postfix": ") ",
     "delete_cmd_prefix": "rm(",
     "library": "var_list.r",
     "varRefreshCmd": "cat(var_dic_list()) "
    }
   },
   "types_to_exclude": [
    "module",
    "function",
    "builtin_function_or_method",
    "instance",
    "_Feature"
   ],
   "window_display": false
  }
 },
 "nbformat": 4,
 "nbformat_minor": 2
}
